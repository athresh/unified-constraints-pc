{
 "cells": [
  {
   "cell_type": "code",
   "execution_count": 1,
   "id": "61674b14",
   "metadata": {},
   "outputs": [],
   "source": [
    "import sys\n",
    "from os import path\n",
    "sys.path.append(path.join(\"..\", \"src\"))\n",
    "\n",
    "import numpy as np\n",
    "import pandas as pd\n",
    "import torch\n",
    "import torchvision\n",
    "from torch import nn\n",
    "from torch import optim\n",
    "from torchvision import datasets, transforms\n",
    "from torch.utils.data import Dataset, ConcatDataset, TensorDataset\n",
    "from sklearn.model_selection import train_test_split\n",
    "from sklearn.preprocessing import KBinsDiscretizer\n",
    "from packages.spn.experiments.RandomSPNs_layerwise.rat_spn import RatSpn, RatSpnConfig\n",
    "from packages.spn.experiments.RandomSPNs_layerwise.distributions import RatNormal\n",
    "from packages.spn.algorithms.layerwise.distributions import Bernoulli, Categorical\n",
    "from utils.datasets import gen_dataset\n",
    "from utils.config_utils import load_config_data\n",
    "from utils.utils import visualize_3d\n",
    "from utils.selectors import get_sim_dataloader\n",
    "from constraint.constraints import GeneralizationConstraint, EqualityConstraint, AbstractConstraint, get_outputs\n",
    "import time\n",
    "import argparse\n",
    "from tqdm import tqdm\n",
    "from pathlib import Path"
   ]
  },
  {
   "cell_type": "code",
   "execution_count": 2,
   "id": "d533b9de",
   "metadata": {},
   "outputs": [
    {
     "name": "stderr",
     "output_type": "stream",
     "text": [
      "/home/ubuntu/miniconda3/lib/python3.11/site-packages/sklearn/preprocessing/_discretization.py:248: FutureWarning: In version 1.5 onwards, subsample=200_000 will be used by default. Set subsample explicitly to silence this warning in the mean time. Set subsample=None to disable subsampling explicitly.\n",
      "  warnings.warn(\n",
      "/home/ubuntu/miniconda3/lib/python3.11/site-packages/sklearn/preprocessing/_discretization.py:248: FutureWarning: In version 1.5 onwards, subsample=200_000 will be used by default. Set subsample explicitly to silence this warning in the mean time. Set subsample=None to disable subsampling explicitly.\n",
      "  warnings.warn(\n",
      "/home/ubuntu/miniconda3/lib/python3.11/site-packages/sklearn/preprocessing/_discretization.py:248: FutureWarning: In version 1.5 onwards, subsample=200_000 will be used by default. Set subsample explicitly to silence this warning in the mean time. Set subsample=None to disable subsampling explicitly.\n",
      "  warnings.warn(\n"
     ]
    },
    {
     "name": "stdout",
     "output_type": "stream",
     "text": [
      "Using device: cuda\n"
     ]
    }
   ],
   "source": [
    "def make_spn(S, I, R, D, F, C, device, leaf_base_class, leaf_base_kwargs=None) -> RatSpn:\n",
    "        \"\"\"Construct the RatSpn\"\"\"\n",
    "\n",
    "        # Setup RatSpnConfig\n",
    "        config = RatSpnConfig()\n",
    "        config.F = F\n",
    "        config.R = R\n",
    "        config.D = D\n",
    "        config.I = I\n",
    "        config.S = S\n",
    "        config.C = C\n",
    "        config.dropout = 0.0\n",
    "        config.leaf_base_class = leaf_base_class \n",
    "        config.leaf_base_kwargs = {} if leaf_base_kwargs is None else leaf_base_kwargs\n",
    "\n",
    "        # Construct RatSpn from config\n",
    "        model = RatSpn(config)\n",
    "\n",
    "        model = model.to(device)\n",
    "        model.train()\n",
    "\n",
    "        print(\"Using device:\", device)\n",
    "        return model\n",
    "\n",
    "k = 3\n",
    "def get_dataset(name: str):\n",
    "    if name == \"cleveland\":\n",
    "        names = [\"age\", \"sex\", \"cp\", \"trestbps\", \"chol\", \"fbs\", \"restecg\", \"thalach\", \"exang\", \"oldpeak\", \"slope\", \"ca\",\n",
    "                 \"thal\", \"num\"]\n",
    "        url = \"https://archive.ics.uci.edu/ml/machine-learning-databases/heart-disease/processed.cleveland.data\"\n",
    "        frame = pd.read_csv(url, names=names, na_values=\"?\").dropna()\n",
    "        frame = frame[[\"age\", \"sex\", \"cp\", \"trestbps\", \"chol\", \"fbs\", \"restecg\", \"num\", \"thalach\", \"exang\", \"oldpeak\", \"slope\"]]\n",
    "        frame[\"unhealthy\"] = (frame.num.astype(int) != 0).astype(int)\n",
    "        frame.drop(['num'], axis=1, inplace=True)\n",
    "        frame[\"chol\"] = ((frame[\"chol\"] < 200) | (frame[\"chol\"] > 240)) # not normal\n",
    "        frame[\"trestbps\"] = pd.cut(frame[\"trestbps\"], [0, 120, 140, np.inf], labels = np.arange(3))\n",
    "        frame[\"restecg\"] = (frame[\"restecg\"] != 0) # not normal\n",
    "        frame[\"cp\"] = (frame[\"cp\"] != 4) # chest pain present\n",
    "        \n",
    "        frame[\"age\"] = pd.cut(frame[\"age\"], [0, 40, 60, np.inf], labels = np.arange(3))\n",
    "        \n",
    "        for name in [\"thalach\", \"oldpeak\", \"slope\"]:\n",
    "          frame[name] = KBinsDiscretizer(n_bins=k, encode='ordinal', strategy='kmeans') \\\n",
    "            .fit_transform(frame[name].to_numpy().reshape(-1, 1)) \\\n",
    "            .flatten().astype(int)\n",
    "          \n",
    "        for name in frame.columns:\n",
    "          frame[name] = frame[name].astype(int)\n",
    "        \n",
    "        r = [(m + 1) for i, m in enumerate(frame.to_numpy().max(axis=0))]\n",
    "        train, test = train_test_split(frame, test_size=0.5, random_state=0, stratify=frame.unhealthy)\n",
    "        return train, test, r\n",
    "        \n",
    "\n",
    "def get_loaders(name: str, use_cuda, batch_size):\n",
    "\n",
    "    train, test, r = get_dataset(name)\n",
    "    \n",
    "    kwargs = {\"num_workers\": 8, \"pin_memory\": True} if use_cuda else {}\n",
    "\n",
    "    test_batch_size = batch_size\n",
    "\n",
    "    \n",
    "    train_dataset, test_dataset = TensorDataset(torch.Tensor(train.to_numpy())), TensorDataset(torch.Tensor(test.to_numpy()))\n",
    "    # Train data loader\n",
    "    train_loader = torch.utils.data.DataLoader(\n",
    "        train_dataset,\n",
    "        batch_size=batch_size,\n",
    "        shuffle=True,\n",
    "        **kwargs,\n",
    "    )\n",
    "\n",
    "    # Test data loader\n",
    "    test_loader = torch.utils.data.DataLoader(\n",
    "        test_dataset,\n",
    "        batch_size=test_batch_size,\n",
    "        shuffle=False,\n",
    "        **kwargs,\n",
    "    )\n",
    "    return r, train.columns.tolist(), train_dataset, test_dataset, train_loader, test_loader\n",
    "\n",
    "\n",
    "\n",
    "\n",
    "r, names, train_dataset, test_dataset, train_loader, test_loader = get_loaders(\"cleveland\", False, 32)\n",
    "rat_S, rat_I, rat_D, rat_R, rat_C, leaves = 20, 20, 2, 5, 1,Categorical #RatNormal\n",
    "n_features = train_loader.dataset[0][0].shape[0]\n",
    "device=torch.device(\"cuda\")\n",
    "dropout=0\n",
    "model = make_spn(S=rat_S, I=rat_I, D=rat_D, R=rat_R, device=device, F=n_features, C=rat_C,leaf_base_class=leaves, leaf_base_kwargs=dict(num_bins=max(r)))"
   ]
  },
  {
   "cell_type": "code",
   "execution_count": 48,
   "id": "fd74ca3a",
   "metadata": {},
   "outputs": [],
   "source": [
    "def predict_proba(model, r, data, target_index, marg_indices=None, device='cpu'):\n",
    "    log_p = torch.zeros((len(data), r[target_index]), device=device)\n",
    "    log_denom = model(data, (target_index,)) if marg_indices is None else model(data, (target_index,*marg_indices))\n",
    "    log_denom = log_denom.ravel()\n",
    "    for i in range(r[target_index]):\n",
    "        data_i = data.clone()\n",
    "        data_i[:, target_index] = i\n",
    "        log_numer = model(data_i) if marg_indices is None else model(data_i, marg_indices)\n",
    "        log_p[:, i] = log_numer.ravel() - log_denom\n",
    "    \n",
    "    return torch.softmax(log_p, axis=1)\n",
    "\n",
    "class ContextSpecificIndependence(EqualityConstraint):\n",
    "    def __init__(self, X, Y, Z, z, r):\n",
    "        # X \\indep Y | Z = z\n",
    "        self.X = X\n",
    "        self.Y = Y\n",
    "        self.Z = Z\n",
    "        self.z = z\n",
    "        self.r = r\n",
    "        super().__init__()\n",
    "    \n",
    "    def violation(self, model, dataset, config_data, device=\"cpu\", **kwargs):\n",
    "        # P(X | Y, Z = z) = P(X | Z = z) \n",
    "        \n",
    "        data = torch.zeros((self.r[self.Y], n_features), device=device)\n",
    "        for i in range(self.r[self.Y]):\n",
    "            data[i, self.Y] = i\n",
    "            data[i, self.Z] = self.z\n",
    "        \n",
    "        marg_indices = [i for i in range(n_features) if i not in (self.X, self.Y, self.Z )]\n",
    "        p1 = predict_proba(model, self.r, data, self.X, marg_indices, device)\n",
    "        p2 = predict_proba(model, self.r, data, self.X, marg_indices + [self.Y], device)\n",
    "        delta = self.delta(p1,p2)\n",
    "        violation = self.degree_violation(delta)\n",
    "        return violation / (self.r[self.X]*self.r[self.Y])\n",
    "            \n",
    "class InequalityConstraint(AbstractConstraint):\n",
    "    def __init__(self, sign, epsilon):\n",
    "        super().__init__()\n",
    "        self.sign = sign\n",
    "        self.epsilon = epsilon\n",
    "        \n",
    "    def delta(self, output_1, output_2):\n",
    "        delta = torch.sub(output_1, output_2)*self.sign + self.epsilon\n",
    "        return delta\n",
    "    def degree_violation(self, delta):\n",
    "        return torch.sum(torch.max(delta, torch.tensor(0.0, device=device))**2)\n",
    "\n",
    "class MonotonicityConstraint(InequalityConstraint):\n",
    "    def __init__(self, Xj, Xi, r, sign, epsilon):\n",
    "        super().__init__(sign, epsilon)\n",
    "        self.Xj = Xj\n",
    "        self.Xi = Xi\n",
    "        self.r = r\n",
    "        \n",
    "    def violation(self, model, dataset, config_data, device=\"cpu\", **kwargs):\n",
    "        n_features = len(r)\n",
    "        marg_indices = [i for i in range(n_features) if i not in (self.Xi, self.Xj)]\n",
    "        data = torch.zeros((self.r[self.Xj], n_features), device=device)\n",
    "        for i in range(self.r[self.Xj]):\n",
    "            data[i, self.Xj] = i\n",
    "        cdf = torch.cumsum(predict_proba(model, self.r, data, self.Xi, marg_indices,device=device), axis=1)\n",
    "        \n",
    "        total = torch.tensor(0.0, device=device)\n",
    "        count = 0\n",
    "        for xi in range(self.r[self.Xi]):\n",
    "            for xj_ in range(self.r[self.Xj]):\n",
    "                for xj in range(xj_):\n",
    "                    # xj_ > xj\n",
    "                    delta = self.delta(cdf[xj_, xi], cdf[xj, xi])\n",
    "                    total += self.degree_violation(delta)\n",
    "                    count += 1\n",
    "                    \n",
    "        return torch.div(total, count)\n",
    "\n",
    "class FalsePositiveConstraint(InequalityConstraint):\n",
    "    def __init__(self, target, r, epsilon):\n",
    "        super().__init__(+1, epsilon)\n",
    "        self.target = target\n",
    "        self.r = r\n",
    "        assert self.r[self.target] == 2\n",
    "    \n",
    "    def violation(self, model, dataset, config_data, device=\"cpu\", batch_size=64, **kwargs):\n",
    "        dataloader = torch.utils.data.DataLoader(\n",
    "            dataset,\n",
    "            batch_size=batch_size,\n",
    "            shuffle=False,\n",
    "            **kwargs,\n",
    "        )\n",
    "        total = torch.tensor(0.0, device=device)\n",
    "        count = 0\n",
    "        for (data,) in dataloader:\n",
    "            \n",
    "            data = data.to(device)\n",
    "            y = data[:, self.target].clone()\n",
    "            p = predict_proba(model, self.r, data[y == 1], target_index=self.target, device=device)\n",
    "            \n",
    "            p0 = p[:, 0]\n",
    "            delta = self.delta(p0, 0.5)\n",
    "            total += self.degree_violation(delta)\n",
    "            count += 1\n",
    "            \n",
    "        return torch.div(total, count)\n"
   ]
  },
  {
   "cell_type": "code",
   "execution_count": 66,
   "id": "979c5955",
   "metadata": {},
   "outputs": [],
   "source": [
    "\n",
    "\n",
    "def train(model, train_loader, constraints, iterations=100, t_max=0, tol=1e-4, device='cpu'):\n",
    "    \n",
    "    model.train()\n",
    "    optimizer = optim.Adam(model.parameters(), lr=0.01)\n",
    "    prev_loss, total_loss = 0, 0\n",
    "    prev_penalty, total_penalty = 0, 0\n",
    "    t = -1\n",
    "    config_data = {}\n",
    "    \n",
    "    for iteration in range(1000):    \n",
    "        total_loss, total_penalty = 0, 0\n",
    "        for (data,) in tqdm(train_loader, total = len(train_loader)):\n",
    "            data = data.to(device)\n",
    "            optimizer.zero_grad()\n",
    "            outputs = model(data)\n",
    "            loss = -outputs.sum() / data.shape[0]\n",
    "            total_loss += loss\n",
    "            penalty = torch.tensor(0.0, device=device)\n",
    "            \n",
    "            for constraint in constraints:\n",
    "                penalty += constraint.violation(model, train_loader.dataset, config_data, device=device, batch_size=64)\n",
    "            \n",
    "            total_penalty += penalty\n",
    "            if t >= 0:\n",
    "                lambda_ = 10**t\n",
    "                loss += lambda_*penalty\n",
    "            \n",
    "            loss.backward()\n",
    "            optimizer.step()\n",
    "        \n",
    "\n",
    "        if iteration > 0: \n",
    "            rel_change_loss = (prev_loss - total_loss) / prev_loss\n",
    "            rel_change_penalty = (prev_penalty - total_penalty) / prev_penalty\n",
    "            if rel_change_loss < tol:\n",
    "                if total_penalty < tol:\n",
    "                    break\n",
    "                else:\n",
    "                    t = min(t + 1, t_max)\n",
    "                    \n",
    "                    if t == t_max:\n",
    "                        break\n",
    "                \n",
    "            if iteration % 10 == 1:\n",
    "                print (f\"{t} {total_loss:.4f}, {rel_change_loss:.4f}, {total_penalty:.4f}, {rel_change_penalty:.4f}\")\n",
    "        prev_loss = total_loss \n",
    "        prev_penalty = total_penalty\n",
    "\n",
    "    if iteration > 0:\n",
    "        print (f\"{t} {total_loss:.4f}, {rel_change_loss:.4f}, {total_penalty:.4f}, {rel_change_penalty:.4f}\")\n",
    "    return model\n",
    "            "
   ]
  },
  {
   "cell_type": "code",
   "execution_count": 5,
   "id": "b76a7933-5861-44fd-939e-18e0154506b2",
   "metadata": {},
   "outputs": [
    {
     "data": {
      "text/plain": [
       "{'age': 3,\n",
       " 'sex': 2,\n",
       " 'cp': 2,\n",
       " 'trestbps': 3,\n",
       " 'chol': 2,\n",
       " 'fbs': 2,\n",
       " 'restecg': 2,\n",
       " 'thalach': 3,\n",
       " 'exang': 2,\n",
       " 'oldpeak': 3,\n",
       " 'slope': 3,\n",
       " 'unhealthy': 2}"
      ]
     },
     "execution_count": 5,
     "metadata": {},
     "output_type": "execute_result"
    }
   ],
   "source": [
    "dict(zip(names, r))"
   ]
  },
  {
   "cell_type": "code",
   "execution_count": 6,
   "id": "2f145943-a87f-4b4d-8838-5f507ce3a2ec",
   "metadata": {},
   "outputs": [
    {
     "data": {
      "text/plain": [
       "'unhealthy'"
      ]
     },
     "execution_count": 6,
     "metadata": {},
     "output_type": "execute_result"
    }
   ],
   "source": [
    "names[11]"
   ]
  },
  {
   "cell_type": "code",
   "execution_count": 82,
   "id": "6929f7c0",
   "metadata": {},
   "outputs": [
    {
     "name": "stdout",
     "output_type": "stream",
     "text": [
      "Using device: cuda\n"
     ]
    },
    {
     "name": "stderr",
     "output_type": "stream",
     "text": [
      "100%|█████████████████████████████████████████████| 5/5 [00:00<00:00, 28.72it/s]\n",
      "100%|█████████████████████████████████████████████| 5/5 [00:00<00:00, 29.31it/s]\n"
     ]
    },
    {
     "name": "stdout",
     "output_type": "stream",
     "text": [
      "-1 63.4389, 0.0281, 0.0012, 0.3452\n"
     ]
    },
    {
     "name": "stderr",
     "output_type": "stream",
     "text": [
      "100%|█████████████████████████████████████████████| 5/5 [00:00<00:00, 29.36it/s]\n",
      "100%|█████████████████████████████████████████████| 5/5 [00:00<00:00, 29.21it/s]\n",
      "100%|█████████████████████████████████████████████| 5/5 [00:00<00:00, 29.37it/s]\n",
      "100%|█████████████████████████████████████████████| 5/5 [00:00<00:00, 29.50it/s]\n",
      "100%|█████████████████████████████████████████████| 5/5 [00:00<00:00, 29.21it/s]\n",
      "100%|█████████████████████████████████████████████| 5/5 [00:00<00:00, 29.34it/s]\n",
      "100%|█████████████████████████████████████████████| 5/5 [00:00<00:00, 29.42it/s]\n",
      "100%|█████████████████████████████████████████████| 5/5 [00:00<00:00, 29.13it/s]\n",
      "100%|█████████████████████████████████████████████| 5/5 [00:00<00:00, 29.20it/s]\n",
      "100%|█████████████████████████████████████████████| 5/5 [00:00<00:00, 29.30it/s]\n"
     ]
    },
    {
     "name": "stdout",
     "output_type": "stream",
     "text": [
      "-1 51.1544, 0.0148, 0.0002, -0.1121\n"
     ]
    },
    {
     "name": "stderr",
     "output_type": "stream",
     "text": [
      "100%|█████████████████████████████████████████████| 5/5 [00:00<00:00, 29.10it/s]\n",
      "100%|█████████████████████████████████████████████| 5/5 [00:00<00:00, 29.22it/s]\n",
      "100%|█████████████████████████████████████████████| 5/5 [00:00<00:00, 29.28it/s]\n",
      "100%|█████████████████████████████████████████████| 5/5 [00:00<00:00, 29.06it/s]\n",
      "100%|█████████████████████████████████████████████| 5/5 [00:00<00:00, 29.14it/s]\n",
      "100%|█████████████████████████████████████████████| 5/5 [00:00<00:00, 29.20it/s]\n",
      "100%|█████████████████████████████████████████████| 5/5 [00:00<00:00, 29.03it/s]\n",
      "100%|█████████████████████████████████████████████| 5/5 [00:00<00:00, 29.10it/s]\n",
      "100%|█████████████████████████████████████████████| 5/5 [00:00<00:00, 29.14it/s]\n",
      "100%|█████████████████████████████████████████████| 5/5 [00:00<00:00, 28.99it/s]\n"
     ]
    },
    {
     "name": "stdout",
     "output_type": "stream",
     "text": [
      "-1 45.0097, 0.0137, 0.0000, -0.0000\n"
     ]
    },
    {
     "name": "stderr",
     "output_type": "stream",
     "text": [
      "100%|█████████████████████████████████████████████| 5/5 [00:00<00:00, 29.08it/s]\n",
      "100%|█████████████████████████████████████████████| 5/5 [00:00<00:00, 29.09it/s]\n",
      "100%|█████████████████████████████████████████████| 5/5 [00:00<00:00, 28.95it/s]\n",
      "100%|█████████████████████████████████████████████| 5/5 [00:00<00:00, 29.09it/s]\n",
      "100%|█████████████████████████████████████████████| 5/5 [00:00<00:00, 29.08it/s]\n",
      "100%|█████████████████████████████████████████████| 5/5 [00:00<00:00, 28.92it/s]\n",
      "100%|█████████████████████████████████████████████| 5/5 [00:00<00:00, 29.00it/s]\n",
      "100%|█████████████████████████████████████████████| 5/5 [00:00<00:00, 29.03it/s]\n",
      "100%|█████████████████████████████████████████████| 5/5 [00:00<00:00, 28.90it/s]\n",
      "100%|█████████████████████████████████████████████| 5/5 [00:00<00:00, 28.97it/s]\n"
     ]
    },
    {
     "name": "stdout",
     "output_type": "stream",
     "text": [
      "-1 42.0158, 0.0093, 0.0000, 0.0000\n"
     ]
    },
    {
     "name": "stderr",
     "output_type": "stream",
     "text": [
      "100%|█████████████████████████████████████████████| 5/5 [00:00<00:00, 28.98it/s]\n",
      "100%|█████████████████████████████████████████████| 5/5 [00:00<00:00, 28.83it/s]\n",
      "100%|█████████████████████████████████████████████| 5/5 [00:00<00:00, 28.91it/s]\n",
      "100%|█████████████████████████████████████████████| 5/5 [00:00<00:00, 28.94it/s]\n",
      "100%|█████████████████████████████████████████████| 5/5 [00:00<00:00, 28.76it/s]\n",
      "100%|█████████████████████████████████████████████| 5/5 [00:00<00:00, 28.90it/s]\n",
      "100%|█████████████████████████████████████████████| 5/5 [00:00<00:00, 28.93it/s]\n",
      "100%|█████████████████████████████████████████████| 5/5 [00:00<00:00, 28.79it/s]\n",
      "100%|█████████████████████████████████████████████| 5/5 [00:00<00:00, 28.86it/s]\n",
      "100%|█████████████████████████████████████████████| 5/5 [00:00<00:00, 28.85it/s]\n"
     ]
    },
    {
     "name": "stdout",
     "output_type": "stream",
     "text": [
      "-1 40.3398, 0.0063, 0.0000, 0.0000\n"
     ]
    },
    {
     "name": "stderr",
     "output_type": "stream",
     "text": [
      "100%|█████████████████████████████████████████████| 5/5 [00:00<00:00, 28.77it/s]"
     ]
    },
    {
     "name": "stdout",
     "output_type": "stream",
     "text": [
      "-1 40.4364, -0.0024, 0.0000, 0.0000\n"
     ]
    },
    {
     "name": "stderr",
     "output_type": "stream",
     "text": [
      "\n"
     ]
    }
   ],
   "source": [
    "constraints = [\n",
    "    # FalsePositiveConstraint(11, r, 0.01),\n",
    "    # ContextSpecificIndependence(2, 11, 4, 1, r),\n",
    "    MonotonicityConstraint(i, 11, r, +1, 0.001)\n",
    "\n",
    "    for i in (0, 1,3,4,6)\n",
    "]\n",
    "\n",
    "model = make_spn(S=rat_S, I=rat_I, D=rat_D, R=rat_R, device=device, F=n_features, C=rat_C,leaf_base_class=leaves, leaf_base_kwargs=dict(num_bins=max(r)))\n",
    "model = train(model, train_loader, constraints, t_max=0, device=device)"
   ]
  },
  {
   "cell_type": "code",
   "execution_count": 84,
   "id": "79d6fe48-f297-4779-9f8a-3921ebe8ea56",
   "metadata": {},
   "outputs": [
    {
     "name": "stderr",
     "output_type": "stream",
     "text": [
      "100%|█████████████████████████████████████████████| 5/5 [00:00<00:00, 28.81it/s]\n",
      "100%|█████████████████████████████████████████████| 5/5 [00:00<00:00, 29.39it/s]\n"
     ]
    },
    {
     "name": "stdout",
     "output_type": "stream",
     "text": [
      "-1 40.2182, 0.0033, 0.0000, 0.0000\n"
     ]
    },
    {
     "name": "stderr",
     "output_type": "stream",
     "text": [
      "100%|█████████████████████████████████████████████| 5/5 [00:00<00:00, 29.39it/s]\n",
      "100%|█████████████████████████████████████████████| 5/5 [00:00<00:00, 29.25it/s]\n",
      "100%|█████████████████████████████████████████████| 5/5 [00:00<00:00, 29.46it/s]\n",
      "100%|█████████████████████████████████████████████| 5/5 [00:00<00:00, 29.44it/s]"
     ]
    },
    {
     "name": "stdout",
     "output_type": "stream",
     "text": [
      "-1 39.5966, -0.0022, 0.0000, 0.0000\n"
     ]
    },
    {
     "name": "stderr",
     "output_type": "stream",
     "text": [
      "\n"
     ]
    }
   ],
   "source": [
    "# model = make_spn(S=rat_S, I=rat_I, D=rat_D, R=rat_R, device=device, F=n_features, C=rat_C,leaf_base_class=leaves, leaf_base_kwargs=dict(num_bins=max(r)))\n",
    "model = train(model, train_loader, constraints, t_max=10, device=device)"
   ]
  },
  {
   "cell_type": "code",
   "execution_count": 83,
   "id": "0407ec40-c4cd-4ca2-9bef-e53e55533477",
   "metadata": {},
   "outputs": [
    {
     "data": {
      "text/plain": [
       "-1372.8946380615234"
      ]
     },
     "execution_count": 83,
     "metadata": {},
     "output_type": "execute_result"
    }
   ],
   "source": [
    "def get_outputs(data_loader, model, device=\"cpu\"):\n",
    "    outputs = None\n",
    "    for batch_idx, (batch,) in enumerate(data_loader):\n",
    "        inputs = batch\n",
    "        inputs = inputs.to(device)\n",
    "        if outputs is None:\n",
    "            outputs = model(inputs)\n",
    "        else:\n",
    "            outputs = torch.cat((outputs, model(inputs)))\n",
    "    return outputs\n",
    "    \n",
    "def log_likelihood(data_loader, model, device=\"cpu\"):\n",
    "    model.eval()\n",
    "    total = 0\n",
    "    for (data,) in data_loader:\n",
    "        data = data.to(device)\n",
    "        total += model(data).to(\"cpu\").detach().numpy().sum()\n",
    "    return total\n",
    "\n",
    "log_likelihood(test_loader, model, device)"
   ]
  },
  {
   "cell_type": "code",
   "execution_count": 2,
   "id": "d2fc8b13-0e11-4323-bab8-9904baa8d002",
   "metadata": {},
   "outputs": [
    {
     "data": {
      "text/plain": [
       "[0, 1]"
      ]
     },
     "execution_count": 2,
     "metadata": {},
     "output_type": "execute_result"
    }
   ],
   "source": [
    "list(range(10))[0:2]"
   ]
  },
  {
   "cell_type": "code",
   "execution_count": 85,
   "id": "21f6af02-6f9e-4a8f-945d-95fd46d05d14",
   "metadata": {},
   "outputs": [
    {
     "data": {
      "text/plain": [
       "-1366.8207397460938"
      ]
     },
     "execution_count": 85,
     "metadata": {},
     "output_type": "execute_result"
    }
   ],
   "source": [
    "log_likelihood(test_loader, model, device)"
   ]
  }
 ],
 "metadata": {
  "kernelspec": {
   "display_name": "Python 3 (ipykernel)",
   "language": "python",
   "name": "python3"
  },
  "language_info": {
   "codemirror_mode": {
    "name": "ipython",
    "version": 3
   },
   "file_extension": ".py",
   "mimetype": "text/x-python",
   "name": "python",
   "nbconvert_exporter": "python",
   "pygments_lexer": "ipython3",
   "version": "3.11.4"
  }
 },
 "nbformat": 4,
 "nbformat_minor": 5
}

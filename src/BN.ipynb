{
 "cells": [
  {
   "cell_type": "code",
   "execution_count": 1,
   "id": "a1dc5350-9339-41f8-94e7-06fdc0d8a64b",
   "metadata": {},
   "outputs": [],
   "source": [
    "# !pip install pgmpy daft #pyAgrum "
   ]
  },
  {
   "cell_type": "code",
   "execution_count": 21,
   "id": "716a0394-433a-422f-b60b-6c95eb44d2e9",
   "metadata": {},
   "outputs": [],
   "source": [
    "import sys\n",
    "from os import path\n",
    "sys.path.append(path.join(\"..\", \"src\"))\n",
    "import torch\n",
    "import torchvision\n",
    "from torch import nn\n",
    "from torch import optim\n",
    "from torchvision import datasets, transforms\n",
    "from torch.utils.data import Dataset, ConcatDataset, TensorDataset\n",
    "from sklearn.model_selection import train_test_split\n",
    "from sklearn.preprocessing import KBinsDiscretizer\n",
    "from packages.spn.experiments.RandomSPNs_layerwise.rat_spn import RatSpn, RatSpnConfig\n",
    "from packages.spn.experiments.RandomSPNs_layerwise.distributions import RatNormal\n",
    "from packages.spn.algorithms.layerwise.distributions import Bernoulli, Categorical\n",
    "from constraint.constraints import *\n",
    "import time\n",
    "import argparse\n",
    "from tqdm import tqdm\n",
    "from pathlib import Path"
   ]
  },
  {
   "cell_type": "code",
   "execution_count": 22,
   "id": "3ec9004f-4d7b-4aef-922f-7cbb262feae8",
   "metadata": {},
   "outputs": [
    {
     "data": {
      "text/plain": [
       "<Axes: >"
      ]
     },
     "execution_count": 22,
     "metadata": {},
     "output_type": "execute_result"
    },
    {
     "data": {
      "image/png": "[encoded data removed]",
      "text/plain": [
       "<Figure size 212.598x191.5 with 1 Axes>"
      ]
     },
     "metadata": {},
     "output_type": "display_data"
    }
   ],
   "source": [
    "from pgmpy.readwrite import BIFReader\n",
    "name = \"survey\"\n",
    "bn = BIFReader(f\"{name}.bif\").get_model()\n",
    "bn.to_daft().render()"
   ]
  },
  {
   "cell_type": "code",
   "execution_count": 23,
   "id": "1f5195bb-707b-4721-aca3-0fc55994c295",
   "metadata": {},
   "outputs": [
    {
     "data": {
      "application/vnd.jupyter.widget-view+json": {
       "model_id": "0a21f27951ec471db05df04262e6dcbc",
       "version_major": 2,
       "version_minor": 0
      },
      "text/plain": [
       "  0%|          | 0/6 [00:00<?, ?it/s]"
      ]
     },
     "metadata": {},
     "output_type": "display_data"
    },
    {
     "data": {
      "text/html": [
       "<div>\n",
       "<style scoped>\n",
       "    .dataframe tbody tr th:only-of-type {\n",
       "        vertical-align: middle;\n",
       "    }\n",
       "\n",
       "    .dataframe tbody tr th {\n",
       "        vertical-align: top;\n",
       "    }\n",
       "\n",
       "    .dataframe thead th {\n",
       "        text-align: right;\n",
       "    }\n",
       "</style>\n",
       "<table border=\"1\" class=\"dataframe\">\n",
       "  <thead>\n",
       "    <tr style=\"text-align: right;\">\n",
       "      <th></th>\n",
       "      <th>First</th>\n",
       "      <th>Second</th>\n",
       "      <th>Degree</th>\n",
       "    </tr>\n",
       "  </thead>\n",
       "  <tbody>\n",
       "    <tr>\n",
       "      <th>6</th>\n",
       "      <td>O</td>\n",
       "      <td>E</td>\n",
       "      <td>-0.006667</td>\n",
       "    </tr>\n",
       "    <tr>\n",
       "      <th>11</th>\n",
       "      <td>E</td>\n",
       "      <td>O</td>\n",
       "      <td>-0.041717</td>\n",
       "    </tr>\n",
       "    <tr>\n",
       "      <th>12</th>\n",
       "      <td>E</td>\n",
       "      <td>R</td>\n",
       "      <td>-0.037562</td>\n",
       "    </tr>\n",
       "    <tr>\n",
       "      <th>17</th>\n",
       "      <td>R</td>\n",
       "      <td>E</td>\n",
       "      <td>-0.040000</td>\n",
       "    </tr>\n",
       "  </tbody>\n",
       "</table>\n",
       "</div>"
      ],
      "text/plain": [
       "   First Second    Degree\n",
       "6      O      E -0.006667\n",
       "11     E      O -0.041717\n",
       "12     E      R -0.037562\n",
       "17     R      E -0.040000"
      ]
     },
     "execution_count": 23,
     "metadata": {},
     "output_type": "execute_result"
    }
   ],
   "source": [
    "from pgmpy.models import BayesianNetwork\n",
    "import pandas as pd\n",
    "from pgmpy.inference import VariableElimination\n",
    "from itertools import product\n",
    "import numpy as np\n",
    "def compute_monotonic_influences_from_bn(model: BayesianNetwork, frame: pd.DataFrame, r: list, sign: int, epsilon: float):\n",
    "  rows = []\n",
    "  names = frame.columns.tolist()\n",
    "  inference = VariableElimination(model)\n",
    "  for first, second in product(frame.columns, frame.columns):\n",
    "    if first == second: continue\n",
    "    numerator = inference.query([first, second], show_progress=False)\n",
    "    denominator = inference.query([second], show_progress=False)\n",
    "    frange = list(range(r[names.index(first)]))\n",
    "    srange = list(range(r[names.index(second)]))\n",
    "    terms = np.array([\n",
    "      np.cumsum([numerator.get_value(**{first: fval, second: sval}) / denominator.get_value(**{second: sval})\n",
    "                 for fval in frange[:-1]])\n",
    "      for sval in srange\n",
    "    ]).T\n",
    "    #  first is influenced by second\n",
    "\n",
    "    diffs = np.fromiter((\n",
    "      sign * (row[vj2] - row[vj1])\n",
    "      for row in terms\n",
    "      for vj2, vj1 in product(srange, srange)\n",
    "      if vj2 > vj1\n",
    "    ), dtype=float)\n",
    "\n",
    "    C = np.all((diffs + epsilon) < 0)\n",
    "    degree = C * np.sum(diffs) / len(srange)\n",
    "    rows.append((first, second, degree))\n",
    "\n",
    "  return pd.DataFrame(rows, columns=(\"First\", \"Second\", \"Degree\"))\n",
    "#e - >r\n",
    "train = bn.simulate(n_samples=100)\n",
    "bn.fit(train)\n",
    "r = [bn.get_cardinality(each) for each in train.columns]\n",
    "f = compute_monotonic_influences_from_bn(bn ,train, r, +1, 0.01)\n",
    "f[f.Degree != 0]"
   ]
  },
  {
   "cell_type": "code",
   "execution_count": 24,
   "id": "d3b5c14d-59db-44f3-988c-8a520ae1079c",
   "metadata": {},
   "outputs": [
    {
     "data": {
      "text/plain": [
       "[2, 2, 2, 2, 3, 3]"
      ]
     },
     "execution_count": 24,
     "metadata": {},
     "output_type": "execute_result"
    }
   ],
   "source": [
    "r"
   ]
  },
  {
   "cell_type": "code",
   "execution_count": 25,
   "id": "906514b9-7538-4a7a-b126-4206152356a0",
   "metadata": {},
   "outputs": [],
   "source": [
    "def get_cis(bn):\n",
    "    return [\n",
    "        (list(indep.event1)[0], each, list(indep.event3)[0])\n",
    "        \n",
    "        for indep in bn.get_independencies().get_assertions()\n",
    "        for each in indep.event2\n",
    "        if len(indep.event3)==1\n",
    "    ]\n",
    "\n",
    "import random\n",
    "cis = get_cis(bn)"
   ]
  },
  {
   "cell_type": "code",
   "execution_count": 26,
   "id": "f24a77a2-ae5d-472c-a85e-fd5e1675f53c",
   "metadata": {},
   "outputs": [
    {
     "data": {
      "application/vnd.jupyter.widget-view+json": {
       "model_id": "724b67a5915d4cfdaadcb8cbda2fba7a",
       "version_major": 2,
       "version_minor": 0
      },
      "text/plain": [
       "  0%|          | 0/6 [00:00<?, ?it/s]"
      ]
     },
     "metadata": {},
     "output_type": "display_data"
    },
    {
     "data": {
      "application/vnd.jupyter.widget-view+json": {
       "model_id": "166386be093f445ba966e8541735a43e",
       "version_major": 2,
       "version_minor": 0
      },
      "text/plain": [
       "  0%|          | 0/6 [00:00<?, ?it/s]"
      ]
     },
     "metadata": {},
     "output_type": "display_data"
    }
   ],
   "source": [
    "train = bn.simulate(n_samples=100, seed=0).astype(int) # sample_from_bn(\"sachs\", 100)\n",
    "# train.replace({\"LOW\": 0, \"AVG\": 1, \"HIGH\": 2}, inplace=True)\n",
    "\n",
    "test = bn.simulate(n_samples=100, seed=1).astype(int) # sample_from_bn(\"sachs\", 100)\n",
    "# test.replace({\"LOW\": 0, \"AVG\": 1, \"HIGH\": 2}, inplace=True)"
   ]
  },
  {
   "cell_type": "code",
   "execution_count": 27,
   "id": "473ccb8a-6cca-45f6-be32-2d27148398a5",
   "metadata": {},
   "outputs": [],
   "source": [
    "train.to_csv(\"survey-train.csv\", index=False)\n",
    "test.to_csv(\"survey-test.csv\", index=False)"
   ]
  },
  {
   "cell_type": "code",
   "execution_count": 28,
   "id": "47754819-c44f-4937-80c8-7e42a7f17318",
   "metadata": {},
   "outputs": [],
   "source": [
    "use_cuda=False\n",
    "kwargs = {\"num_workers\": 8, \"pin_memory\": True} if use_cuda else {}\n",
    "batch_size = 64\n",
    "test_batch_size = batch_size\n",
    "\n",
    "\n",
    "train_dataset, test_dataset = TensorDataset(torch.Tensor(train.to_numpy())), TensorDataset(torch.Tensor(test.to_numpy()))\n",
    "# Train data loader\n",
    "train_loader = torch.utils.data.DataLoader(\n",
    "    train_dataset,\n",
    "    batch_size=batch_size,\n",
    "    shuffle=True,\n",
    "    **kwargs,\n",
    ")\n",
    "\n",
    "# Test data loader\n",
    "test_loader = torch.utils.data.DataLoader(\n",
    "    test_dataset,\n",
    "    batch_size=test_batch_size,\n",
    "    shuffle=False,\n",
    "    **kwargs,\n",
    ")\n",
    "names = train.columns.tolist()"
   ]
  },
  {
   "cell_type": "code",
   "execution_count": 29,
   "id": "f719170e-06be-4043-a982-44c0eac80c5d",
   "metadata": {},
   "outputs": [
    {
     "name": "stdout",
     "output_type": "stream",
     "text": [
      "Using device: cpu\n"
     ]
    }
   ],
   "source": [
    "def make_spn(S, I, R, D, F, C, device, leaf_base_class, leaf_base_kwargs=None) -> RatSpn:\n",
    "        \"\"\"Construct the RatSpn\"\"\"\n",
    "\n",
    "        # Setup RatSpnConfig\n",
    "        config = RatSpnConfig()\n",
    "        config.F = F\n",
    "        config.R = R\n",
    "        config.D = D\n",
    "        config.I = I\n",
    "        config.S = S\n",
    "        config.C = C\n",
    "        config.dropout = 0.0\n",
    "        config.leaf_base_class = leaf_base_class \n",
    "        config.leaf_base_kwargs = {} if leaf_base_kwargs is None else leaf_base_kwargs\n",
    "\n",
    "        # Construct RatSpn from config\n",
    "        model = RatSpn(config)\n",
    "\n",
    "        model = model.to(device)\n",
    "        model.train()\n",
    "\n",
    "        print(\"Using device:\", device)\n",
    "        return model\n",
    "\n",
    "\n",
    "rat_S, rat_I, rat_D, rat_R, rat_C, leaves =  20, 20, 2, 5, 1,Categorical \n",
    "n_features = train_loader.dataset[0][0].shape[0]\n",
    "r = [bn.get_cardinality(each) for each in test.columns]\n",
    "device = torch.device(\"cpu\") # torch.device(\"cuda\")\n",
    "dropout = 0\n",
    "model = make_spn(S=rat_S, I=rat_I, D=rat_D, R=rat_R, device=device, F=n_features, C=rat_C,leaf_base_class=leaves, leaf_base_kwargs=dict(num_bins=max(r)))"
   ]
  },
  {
   "cell_type": "code",
   "execution_count": 30,
   "id": "d94b1b55-cd7d-4617-bf08-d656fc2410f3",
   "metadata": {},
   "outputs": [],
   "source": [
    "from tqdm import trange\n",
    "def train_model(model, train_loader, constraints, n_iterations=1000, t_max=0, tol=1e-4, device='cpu'):\n",
    "    \n",
    "    \n",
    "    prev_loss, total_loss = 0, 0\n",
    "    rel_change_loss, rel_change_penalty = 0, 0\n",
    "    prev_penalty, total_penalty = 0, 0\n",
    "    config_data = {}\n",
    "    prev_loss = 0\n",
    "    patience = 0\n",
    "    lambda_ = 0\n",
    "\n",
    "    for t in range(-1, t_max):\n",
    "        model.train()\n",
    "        optimizer = optim.Adam(model.parameters(), lr = 1e-3 if t == -1 else 1e-4)\n",
    "        # torch.cuda.empty_cache()\n",
    "        total_data_loss, total_penalty = 0, 0\n",
    "        patience = 0\n",
    "        prev_loss = 0\n",
    "        for iteration in trange(n_iterations*10 if t == -1 else n_iterations):\n",
    "            total_loss = 0\n",
    "            for (data,) in train_loader:\n",
    "                data = data.to(device)\n",
    "                optimizer.zero_grad()\n",
    "                outputs = model(data)\n",
    "                loss = -outputs.sum() / data.shape[0]\n",
    "                total_data_loss += loss.detach()\n",
    "                \n",
    "                penalty = torch.tensor(0.0, device=device)\n",
    "                for constraint in constraints:\n",
    "                    penalty += constraint.violation(model, train_loader.dataset, config_data, device=device, batch_size=64)\n",
    "\n",
    "                \n",
    "                total_penalty += penalty.detach()\n",
    "                # print (loss, penalty, lambda_)\n",
    "                if t >= 0:\n",
    "                    lambda_ = 10**t\n",
    "                    loss += lambda_*penalty\n",
    "                total_loss += loss.detach()\n",
    "                loss.backward()\n",
    "                optimizer.step()\n",
    "            \n",
    "            \n",
    "            if iteration > 0:\n",
    "                rel_change_loss = (prev_loss - total_loss) / prev_loss\n",
    "                \n",
    "                if patience >= 2 and rel_change_loss < tol:\n",
    "                    break\n",
    "                else:\n",
    "                    patience += 1\n",
    "                \n",
    "                if rel_change_loss > tol:\n",
    "                    patience = 0\n",
    "            prev_loss = total_loss\n",
    "        \n",
    "        with torch.no_grad():\n",
    "            penalty = torch.tensor(0.0, device=device)\n",
    "            for constraint in constraints:\n",
    "                penalty += constraint.violation(model, train_loader.dataset, config_data, device=device, batch_size=64)\n",
    "        total_penalty = float(penalty)\n",
    "        \n",
    "        print (f\"{iteration} {t} {total_data_loss/(iteration+1):.4f} {rel_change_loss} {total_penalty}\")\n",
    "        if total_penalty < tol:\n",
    "            break\n",
    "        \n",
    "    return model"
   ]
  },
  {
   "cell_type": "code",
   "execution_count": 31,
   "id": "4d0b4416-936f-42a5-bb82-a5be8333ba5b",
   "metadata": {},
   "outputs": [],
   "source": [
    "\n",
    "def train_model(model, train_loader, constraints, n_iterations=1000, t_min=-1, t_max=0, tol=1e-4, device='cpu'):\n",
    "    \n",
    "    model.train()\n",
    "    optimizer = optim.Adam(model.parameters(), lr=0.001)\n",
    "    prev_loss, total_loss = 0, 0\n",
    "    rel_change_loss, rel_change_penalty = 0, 0\n",
    "    prev_penalty, total_penalty = 0, 0\n",
    "    config_data = {}\n",
    "    prev_loss = 0\n",
    "    for t in range(t_min, t_max):\n",
    "        # torch.cuda.empty_cache()\n",
    "        total_data_loss, total_penalty = 0, 0\n",
    "        for iteration in trange(n_iterations):\n",
    "            total_loss = 0\n",
    "            for (data,) in train_loader:\n",
    "                data = data.to(device)\n",
    "                optimizer.zero_grad()\n",
    "                outputs = model(data)\n",
    "                loss = -outputs.sum() / data.shape[0]\n",
    "                total_data_loss += loss.detach()\n",
    "                \n",
    "                penalty = torch.tensor(0.0, device=device)\n",
    "                for constraint in constraints:\n",
    "                    penalty += constraint.violation(model, train_loader.dataset, config_data, device=device, batch_size=64)\n",
    "                \n",
    "                total_penalty += penalty.detach()\n",
    "                if t >= 0:\n",
    "                    lambda_ = 10**t\n",
    "                    loss += lambda_*penalty\n",
    "                total_loss += loss.detach()\n",
    "                loss.backward()\n",
    "                optimizer.step()\n",
    "            \n",
    "            \n",
    "            if iteration > 0:\n",
    "                rel_change_loss = (prev_loss - total_loss) / prev_loss\n",
    "                \n",
    "            \"\"\"\n",
    "            if iteration >0 and rel_change_loss < tol:\n",
    "                break\n",
    "            \"\"\"\n",
    "            prev_loss = total_loss\n",
    "\n",
    "        with torch.no_grad():\n",
    "            penalty = torch.tensor(0.0, device=device)\n",
    "            for constraint in constraints:\n",
    "                penalty += constraint.violation(model, train_loader.dataset, config_data, device=device, batch_size=64)\n",
    "        total_penalty = float(penalty)\n",
    "        \n",
    "        \n",
    "        print (f\"{iteration} {t} {total_data_loss/(iteration+1):.4f} {rel_change_loss} {total_penalty/(iteration+1)}\")\n",
    "        if t >= 0 and total_penalty/(iteration+1) < tol:\n",
    "            break\n",
    "    return model"
   ]
  },
  {
   "cell_type": "code",
   "execution_count": 32,
   "id": "a6799bad-5d55-4bf3-a708-1a19b28a0c22",
   "metadata": {},
   "outputs": [
    {
     "name": "stdout",
     "output_type": "stream",
     "text": [
      "Using device: cpu\n"
     ]
    },
    {
     "name": "stderr",
     "output_type": "stream",
     "text": [
      "100%|█████████████████████████████████████████████████████████████████████████████████████████████████████████████████████████████████████████████████████████████████████████████████████████| 100/100 [00:50<00:00,  1.98it/s]"
     ]
    },
    {
     "name": "stdout",
     "output_type": "stream",
     "text": [
      "99 -1 12.4597 0.0011115425731986761 0.0\n"
     ]
    },
    {
     "name": "stderr",
     "output_type": "stream",
     "text": [
      "\n"
     ]
    }
   ],
   "source": [
    "import numpy as np\n",
    "trial = 0\n",
    "random.seed(trial)\n",
    "np.random.seed(trial)\n",
    "torch.manual_seed(trial)\n",
    "\n",
    "constraints = []\n",
    "\n",
    "model = make_spn(S=rat_S, I=rat_I, D=rat_D, R=rat_R, device=device, F=n_features, C=rat_C,leaf_base_class=leaves, leaf_base_kwargs=dict(num_bins=max(r)))\n",
    "model = train_model(model, train_loader, constraints, t_max=0, tol=1e-4, device=device, n_iterations=100)"
   ]
  },
  {
   "cell_type": "code",
   "execution_count": 33,
   "id": "e714d901-cd61-4d8b-8b8e-7d7b2f0ce67e",
   "metadata": {},
   "outputs": [
    {
     "data": {
      "text/plain": [
       "-583.8337860107422"
      ]
     },
     "execution_count": 33,
     "metadata": {},
     "output_type": "execute_result"
    }
   ],
   "source": [
    "log_likelihood(test_loader, model, device)"
   ]
  },
  {
   "cell_type": "code",
   "execution_count": 34,
   "id": "d46231ad-57dd-4731-b20f-7385c8766a20",
   "metadata": {},
   "outputs": [
    {
     "name": "stderr",
     "output_type": "stream",
     "text": [
      " 92%|███████████████████████████████████████████████████████████████████████████████████████████████████████████████████████████████████████████████████████████████████████████               | 92/100 [07:45<00:40,  5.05s/it]\n"
     ]
    },
    {
     "ename": "KeyboardInterrupt",
     "evalue": "",
     "output_type": "error",
     "traceback": [
      "\u001b[0;31m---------------------------------------------------------------------------\u001b[0m",
      "\u001b[0;31mKeyboardInterrupt\u001b[0m                         Traceback (most recent call last)",
      "Cell \u001b[0;32mIn[34], line 17\u001b[0m\n\u001b[1;32m      9\u001b[0m constraints \u001b[38;5;241m=\u001b[39m [\n\u001b[1;32m     10\u001b[0m     ContextSpecificIndependence(names\u001b[38;5;241m.\u001b[39mindex(X), names\u001b[38;5;241m.\u001b[39mindex(Y), names\u001b[38;5;241m.\u001b[39mindex(Z), z, r)\n\u001b[1;32m     11\u001b[0m     \u001b[38;5;28;01mfor\u001b[39;00m X, Y, Z \u001b[38;5;129;01min\u001b[39;00m cis[\u001b[38;5;241m0\u001b[39m:\u001b[38;5;241m1\u001b[39m]\n\u001b[1;32m     12\u001b[0m     \u001b[38;5;28;01mfor\u001b[39;00m z \u001b[38;5;129;01min\u001b[39;00m \u001b[38;5;28mrange\u001b[39m(r[names\u001b[38;5;241m.\u001b[39mindex(Z)])\n\u001b[1;32m     13\u001b[0m ] \n\u001b[1;32m     16\u001b[0m \u001b[38;5;66;03m# model = make_spn(S=rat_S, I=rat_I, D=rat_D, R=rat_R, device=device, F=n_features, C=rat_C,leaf_base_class=leaves, leaf_base_kwargs=dict(num_bins=max(r)))\u001b[39;00m\n\u001b[0;32m---> 17\u001b[0m model2 \u001b[38;5;241m=\u001b[39m \u001b[43mtrain_model\u001b[49m\u001b[43m(\u001b[49m\u001b[43mcopy\u001b[49m\u001b[38;5;241;43m.\u001b[39;49m\u001b[43mdeepcopy\u001b[49m\u001b[43m(\u001b[49m\u001b[43mmodel\u001b[49m\u001b[43m)\u001b[49m\u001b[43m,\u001b[49m\u001b[43m \u001b[49m\u001b[43mtrain_loader\u001b[49m\u001b[43m,\u001b[49m\u001b[43m \u001b[49m\u001b[43mconstraints\u001b[49m\u001b[43m,\u001b[49m\u001b[43m \u001b[49m\u001b[43mt_min\u001b[49m\u001b[38;5;241;43m=\u001b[39;49m\u001b[38;5;241;43m0\u001b[39;49m\u001b[43m,\u001b[49m\u001b[43m \u001b[49m\u001b[43mt_max\u001b[49m\u001b[38;5;241;43m=\u001b[39;49m\u001b[38;5;241;43m10\u001b[39;49m\u001b[43m,\u001b[49m\u001b[43m \u001b[49m\u001b[43mtol\u001b[49m\u001b[38;5;241;43m=\u001b[39;49m\u001b[38;5;241;43m1e-8\u001b[39;49m\u001b[43m,\u001b[49m\u001b[43m \u001b[49m\u001b[43mdevice\u001b[49m\u001b[38;5;241;43m=\u001b[39;49m\u001b[43mdevice\u001b[49m\u001b[43m,\u001b[49m\u001b[43m \u001b[49m\u001b[43mn_iterations\u001b[49m\u001b[38;5;241;43m=\u001b[39;49m\u001b[38;5;241;43m100\u001b[39;49m\u001b[43m)\u001b[49m\n",
      "Cell \u001b[0;32mIn[31], line 31\u001b[0m, in \u001b[0;36mtrain_model\u001b[0;34m(model, train_loader, constraints, n_iterations, t_min, t_max, tol, device)\u001b[0m\n\u001b[1;32m     29\u001b[0m         loss \u001b[38;5;241m+\u001b[39m\u001b[38;5;241m=\u001b[39m lambda_\u001b[38;5;241m*\u001b[39mpenalty\n\u001b[1;32m     30\u001b[0m     total_loss \u001b[38;5;241m+\u001b[39m\u001b[38;5;241m=\u001b[39m loss\u001b[38;5;241m.\u001b[39mdetach()\n\u001b[0;32m---> 31\u001b[0m     \u001b[43mloss\u001b[49m\u001b[38;5;241;43m.\u001b[39;49m\u001b[43mbackward\u001b[49m\u001b[43m(\u001b[49m\u001b[43m)\u001b[49m\n\u001b[1;32m     32\u001b[0m     optimizer\u001b[38;5;241m.\u001b[39mstep()\n\u001b[1;32m     35\u001b[0m \u001b[38;5;28;01mif\u001b[39;00m iteration \u001b[38;5;241m>\u001b[39m \u001b[38;5;241m0\u001b[39m:\n",
      "File \u001b[0;32m~/miniconda3/lib/python3.9/site-packages/torch/_tensor.py:487\u001b[0m, in \u001b[0;36mTensor.backward\u001b[0;34m(self, gradient, retain_graph, create_graph, inputs)\u001b[0m\n\u001b[1;32m    477\u001b[0m \u001b[38;5;28;01mif\u001b[39;00m has_torch_function_unary(\u001b[38;5;28mself\u001b[39m):\n\u001b[1;32m    478\u001b[0m     \u001b[38;5;28;01mreturn\u001b[39;00m handle_torch_function(\n\u001b[1;32m    479\u001b[0m         Tensor\u001b[38;5;241m.\u001b[39mbackward,\n\u001b[1;32m    480\u001b[0m         (\u001b[38;5;28mself\u001b[39m,),\n\u001b[0;32m   (...)\u001b[0m\n\u001b[1;32m    485\u001b[0m         inputs\u001b[38;5;241m=\u001b[39minputs,\n\u001b[1;32m    486\u001b[0m     )\n\u001b[0;32m--> 487\u001b[0m \u001b[43mtorch\u001b[49m\u001b[38;5;241;43m.\u001b[39;49m\u001b[43mautograd\u001b[49m\u001b[38;5;241;43m.\u001b[39;49m\u001b[43mbackward\u001b[49m\u001b[43m(\u001b[49m\n\u001b[1;32m    488\u001b[0m \u001b[43m    \u001b[49m\u001b[38;5;28;43mself\u001b[39;49m\u001b[43m,\u001b[49m\u001b[43m \u001b[49m\u001b[43mgradient\u001b[49m\u001b[43m,\u001b[49m\u001b[43m \u001b[49m\u001b[43mretain_graph\u001b[49m\u001b[43m,\u001b[49m\u001b[43m \u001b[49m\u001b[43mcreate_graph\u001b[49m\u001b[43m,\u001b[49m\u001b[43m \u001b[49m\u001b[43minputs\u001b[49m\u001b[38;5;241;43m=\u001b[39;49m\u001b[43minputs\u001b[49m\n\u001b[1;32m    489\u001b[0m \u001b[43m\u001b[49m\u001b[43m)\u001b[49m\n",
      "File \u001b[0;32m~/miniconda3/lib/python3.9/site-packages/torch/autograd/__init__.py:200\u001b[0m, in \u001b[0;36mbackward\u001b[0;34m(tensors, grad_tensors, retain_graph, create_graph, grad_variables, inputs)\u001b[0m\n\u001b[1;32m    195\u001b[0m     retain_graph \u001b[38;5;241m=\u001b[39m create_graph\n\u001b[1;32m    197\u001b[0m \u001b[38;5;66;03m# The reason we repeat same the comment below is that\u001b[39;00m\n\u001b[1;32m    198\u001b[0m \u001b[38;5;66;03m# some Python versions print out the first line of a multi-line function\u001b[39;00m\n\u001b[1;32m    199\u001b[0m \u001b[38;5;66;03m# calls in the traceback and some print out the last line\u001b[39;00m\n\u001b[0;32m--> 200\u001b[0m \u001b[43mVariable\u001b[49m\u001b[38;5;241;43m.\u001b[39;49m\u001b[43m_execution_engine\u001b[49m\u001b[38;5;241;43m.\u001b[39;49m\u001b[43mrun_backward\u001b[49m\u001b[43m(\u001b[49m\u001b[43m  \u001b[49m\u001b[38;5;66;43;03m# Calls into the C++ engine to run the backward pass\u001b[39;49;00m\n\u001b[1;32m    201\u001b[0m \u001b[43m    \u001b[49m\u001b[43mtensors\u001b[49m\u001b[43m,\u001b[49m\u001b[43m \u001b[49m\u001b[43mgrad_tensors_\u001b[49m\u001b[43m,\u001b[49m\u001b[43m \u001b[49m\u001b[43mretain_graph\u001b[49m\u001b[43m,\u001b[49m\u001b[43m \u001b[49m\u001b[43mcreate_graph\u001b[49m\u001b[43m,\u001b[49m\u001b[43m \u001b[49m\u001b[43minputs\u001b[49m\u001b[43m,\u001b[49m\n\u001b[1;32m    202\u001b[0m \u001b[43m    \u001b[49m\u001b[43mallow_unreachable\u001b[49m\u001b[38;5;241;43m=\u001b[39;49m\u001b[38;5;28;43;01mTrue\u001b[39;49;00m\u001b[43m,\u001b[49m\u001b[43m \u001b[49m\u001b[43maccumulate_grad\u001b[49m\u001b[38;5;241;43m=\u001b[39;49m\u001b[38;5;28;43;01mTrue\u001b[39;49;00m\u001b[43m)\u001b[49m\n",
      "\u001b[0;31mKeyboardInterrupt\u001b[0m: "
     ]
    }
   ],
   "source": [
    "import copy\n",
    "\n",
    "trial = 1\n",
    "random.seed(trial)\n",
    "np.random.seed(trial)\n",
    "torch.manual_seed(trial)\n",
    "\n",
    "\n",
    "constraints = [\n",
    "    ContextSpecificIndependence(names.index(X), names.index(Y), names.index(Z), z, r)\n",
    "    for X, Y, Z in cis[0:1]\n",
    "    for z in range(r[names.index(Z)])\n",
    "] \n",
    "\n",
    "\n",
    "# model = make_spn(S=rat_S, I=rat_I, D=rat_D, R=rat_R, device=device, F=n_features, C=rat_C,leaf_base_class=leaves, leaf_base_kwargs=dict(num_bins=max(r)))\n",
    "model2 = train_model(copy.deepcopy(model), train_loader, constraints, t_min=0, t_max=10, tol=1e-8, device=device, n_iterations=100)"
   ]
  },
  {
   "cell_type": "code",
   "execution_count": 174,
   "id": "204f1693",
   "metadata": {},
   "outputs": [
    {
     "data": {
      "text/plain": [
       "-315.603271484375"
      ]
     },
     "execution_count": 174,
     "metadata": {},
     "output_type": "execute_result"
    }
   ],
   "source": [
    "log_likelihood(test_loader, model2, device)"
   ]
  },
  {
   "cell_type": "code",
   "execution_count": 176,
   "id": "b60928ce-17e6-4f15-b0cc-b6106c8d0ceb",
   "metadata": {},
   "outputs": [
    {
     "name": "stderr",
     "output_type": "stream",
     "text": [
      "100%|█████████████████████████████████████████████████████████████████████████████████████████████████████████████████████████████████████████████████████████████████████████████████████████| 100/100 [00:26<00:00,  3.72it/s]\n"
     ]
    },
    {
     "name": "stdout",
     "output_type": "stream",
     "text": [
      "99 0 6.0701 -0.024036070331931114 6.057462305761874e-06\n"
     ]
    },
    {
     "name": "stderr",
     "output_type": "stream",
     "text": [
      "100%|█████████████████████████████████████████████████████████████████████████████████████████████████████████████████████████████████████████████████████████████████████████████████████████| 100/100 [00:27<00:00,  3.66it/s]\n"
     ]
    },
    {
     "name": "stdout",
     "output_type": "stream",
     "text": [
      "99 1 5.7204 0.018915599212050438 5.962581417406909e-07\n"
     ]
    },
    {
     "name": "stderr",
     "output_type": "stream",
     "text": [
      "100%|█████████████████████████████████████████████████████████████████████████████████████████████████████████████████████████████████████████████████████████████████████████████████████████| 100/100 [00:26<00:00,  3.72it/s]\n"
     ]
    },
    {
     "name": "stdout",
     "output_type": "stream",
     "text": [
      "99 2 5.5449 0.02896290086209774 5.662822150043212e-07\n"
     ]
    },
    {
     "name": "stderr",
     "output_type": "stream",
     "text": [
      "100%|█████████████████████████████████████████████████████████████████████████████████████████████████████████████████████████████████████████████████████████████████████████████████████████| 100/100 [00:26<00:00,  3.76it/s]\n"
     ]
    },
    {
     "name": "stdout",
     "output_type": "stream",
     "text": [
      "99 3 5.4876 -0.040111031383275986 1.2110580428270622e-06\n"
     ]
    },
    {
     "name": "stderr",
     "output_type": "stream",
     "text": [
      "100%|█████████████████████████████████████████████████████████████████████████████████████████████████████████████████████████████████████████████████████████████████████████████████████████| 100/100 [00:27<00:00,  3.70it/s]\n"
     ]
    },
    {
     "name": "stdout",
     "output_type": "stream",
     "text": [
      "99 4 5.4734 0.00404758658260107 5.939365291851573e-07\n"
     ]
    },
    {
     "name": "stderr",
     "output_type": "stream",
     "text": [
      "100%|█████████████████████████████████████████████████████████████████████████████████████████████████████████████████████████████████████████████████████████████████████████████████████████| 100/100 [00:26<00:00,  3.73it/s]\n"
     ]
    },
    {
     "name": "stdout",
     "output_type": "stream",
     "text": [
      "99 5 5.4680 0.06987354904413223 7.627633749507367e-07\n"
     ]
    },
    {
     "name": "stderr",
     "output_type": "stream",
     "text": [
      "100%|█████████████████████████████████████████████████████████████████████████████████████████████████████████████████████████████████████████████████████████████████████████████████████████| 100/100 [00:26<00:00,  3.72it/s]\n"
     ]
    },
    {
     "name": "stdout",
     "output_type": "stream",
     "text": [
      "99 6 5.4840 0.18960505723953247 8.934093057177961e-07\n"
     ]
    },
    {
     "name": "stderr",
     "output_type": "stream",
     "text": [
      "100%|█████████████████████████████████████████████████████████████████████████████████████████████████████████████████████████████████████████████████████████████████████████████████████████| 100/100 [00:26<00:00,  3.73it/s]\n"
     ]
    },
    {
     "name": "stdout",
     "output_type": "stream",
     "text": [
      "99 7 5.4940 -0.07043761014938354 7.164580165408552e-07\n"
     ]
    },
    {
     "name": "stderr",
     "output_type": "stream",
     "text": [
      "100%|█████████████████████████████████████████████████████████████████████████████████████████████████████████████████████████████████████████████████████████████████████████████████████████| 100/100 [00:26<00:00,  3.73it/s]\n"
     ]
    },
    {
     "name": "stdout",
     "output_type": "stream",
     "text": [
      "99 8 5.5063 0.0001959960354724899 5.463113120640628e-07\n"
     ]
    },
    {
     "name": "stderr",
     "output_type": "stream",
     "text": [
      "100%|█████████████████████████████████████████████████████████████████████████████████████████████████████████████████████████████████████████████████████████████████████████████████████████| 100/100 [00:26<00:00,  3.71it/s]"
     ]
    },
    {
     "name": "stdout",
     "output_type": "stream",
     "text": [
      "99 9 5.5330 0.00040852450183592737 5.323541336110794e-07\n"
     ]
    },
    {
     "name": "stderr",
     "output_type": "stream",
     "text": [
      "\n"
     ]
    }
   ],
   "source": [
    "\n",
    "\"\"\"\n",
    "parent1 = \"either\"\n",
    "target1 = \"xray\"\n",
    "\n",
    "\n",
    "parent1 = \"Alarm\"\n",
    "target1 = \"JohnCalls\"\n",
    "\"\"\"\n",
    "parent1 = \"E\" # education\n",
    "target1 = \"R\" # Residence\n",
    "sign = +1\n",
    "epsilon = 0.01\n",
    "constraints = [\n",
    "    ContextSpecificIndependence(names.index(X), names.index(Y), names.index(Z), z, r)\n",
    "    for X, Y, Z in cis[0:1]\n",
    "    for z in range(r[names.index(Z)])\n",
    "] + [MonotonicityConstraint(names.index(parent1), names.index(target1), r, sign, epsilon)] \n",
    "\n",
    "model3 = train_model(copy.deepcopy(model2), train_loader, constraints, t_min=0, t_max=10, tol=1e-8, device=device, n_iterations=100)"
   ]
  },
  {
   "cell_type": "code",
   "execution_count": 177,
   "id": "6df61b03",
   "metadata": {},
   "outputs": [
    {
     "data": {
      "text/plain": [
       "-280.2041473388672"
      ]
     },
     "execution_count": 177,
     "metadata": {},
     "output_type": "execute_result"
    }
   ],
   "source": [
    "log_likelihood(test_loader, model3, device)"
   ]
  },
  {
   "cell_type": "code",
   "execution_count": 151,
   "id": "c7537c00-e700-4d48-83b8-599deb39e79e",
   "metadata": {},
   "outputs": [
    {
     "name": "stdout",
     "output_type": "stream",
     "text": [
      "\u001b[31mERROR: Could not find a version that satisfies the requirement deepcopy (from versions: none)\u001b[0m\u001b[31m\n",
      "\u001b[0m\u001b[31mERROR: No matching distribution found for deepcopy\u001b[0m\u001b[31m\n",
      "\u001b[0m"
     ]
    }
   ],
   "source": [
    "!pip install deepcopy"
   ]
  },
  {
   "cell_type": "code",
   "execution_count": 101,
   "id": "bf9891d7-4243-48ec-991a-4b907b91a85f",
   "metadata": {},
   "outputs": [
    {
     "name": "stdout",
     "output_type": "stream",
     "text": [
      "Using device: cpu\n"
     ]
    },
    {
     "name": "stderr",
     "output_type": "stream",
     "text": [
      "100%|█████████████████████████████████████████████████████████████████████████████████████████████████████████████████████████████████████████████████████████████████████████████████████████| 100/100 [00:02<00:00, 47.81it/s]\n"
     ]
    },
    {
     "name": "stdout",
     "output_type": "stream",
     "text": [
      "99 -1 5.4801 0.0008460879325866699 1.9239552784711124e-06\n"
     ]
    },
    {
     "name": "stderr",
     "output_type": "stream",
     "text": [
      "100%|█████████████████████████████████████████████████████████████████████████████████████████████████████████████████████████████████████████████████████████████████████████████████████████| 100/100 [00:02<00:00, 42.06it/s]\n"
     ]
    },
    {
     "name": "stdout",
     "output_type": "stream",
     "text": [
      "99 0 5.0346 0.0008151134825311601 2.0924725686199962e-06\n"
     ]
    },
    {
     "name": "stderr",
     "output_type": "stream",
     "text": [
      "100%|█████████████████████████████████████████████████████████████████████████████████████████████████████████████████████████████████████████████████████████████████████████████████████████| 100/100 [00:02<00:00, 42.52it/s]\n"
     ]
    },
    {
     "name": "stdout",
     "output_type": "stream",
     "text": [
      "99 1 4.6403 0.0007980785449035466 1.0437678429298102e-06\n"
     ]
    },
    {
     "name": "stderr",
     "output_type": "stream",
     "text": [
      "100%|█████████████████████████████████████████████████████████████████████████████████████████████████████████████████████████████████████████████████████████████████████████████████████████| 100/100 [00:02<00:00, 41.38it/s]\n"
     ]
    },
    {
     "name": "stdout",
     "output_type": "stream",
     "text": [
      "99 2 4.2859 0.0007834988064132631 5.08313205500599e-07\n"
     ]
    },
    {
     "name": "stderr",
     "output_type": "stream",
     "text": [
      "100%|█████████████████████████████████████████████████████████████████████████████████████████████████████████████████████████████████████████████████████████████████████████████████████████| 100/100 [00:02<00:00, 41.94it/s]\n"
     ]
    },
    {
     "name": "stdout",
     "output_type": "stream",
     "text": [
      "99 3 3.9633 0.0007541882805526257 5.001221143174916e-07\n"
     ]
    },
    {
     "name": "stderr",
     "output_type": "stream",
     "text": [
      "100%|█████████████████████████████████████████████████████████████████████████████████████████████████████████████████████████████████████████████████████████████████████████████████████████| 100/100 [00:02<00:00, 41.03it/s]\n"
     ]
    },
    {
     "name": "stdout",
     "output_type": "stream",
     "text": [
      "99 4 3.6727 0.0006266795680858195 5.0000126066152e-07\n"
     ]
    },
    {
     "name": "stderr",
     "output_type": "stream",
     "text": [
      "100%|█████████████████████████████████████████████████████████████████████████████████████████████████████████████████████████████████████████████████████████████████████████████████████████| 100/100 [00:02<00:00, 42.53it/s]\n"
     ]
    },
    {
     "name": "stdout",
     "output_type": "stream",
     "text": [
      "99 5 3.4211 0.000245171831920743 4.999999873689376e-07\n"
     ]
    },
    {
     "name": "stderr",
     "output_type": "stream",
     "text": [
      "100%|█████████████████████████████████████████████████████████████████████████████████████████████████████████████████████████████████████████████████████████████████████████████████████████| 100/100 [00:02<00:00, 42.55it/s]\n"
     ]
    },
    {
     "name": "stdout",
     "output_type": "stream",
     "text": [
      "99 6 3.2138 7.898010153439827e-06 4.999999873689376e-07\n"
     ]
    },
    {
     "name": "stderr",
     "output_type": "stream",
     "text": [
      "100%|█████████████████████████████████████████████████████████████████████████████████████████████████████████████████████████████████████████████████████████████████████████████████████████| 100/100 [00:02<00:00, 40.70it/s]\n"
     ]
    },
    {
     "name": "stdout",
     "output_type": "stream",
     "text": [
      "99 7 3.0518 2.6696213808463654e-06 4.999999873689376e-07\n"
     ]
    },
    {
     "name": "stderr",
     "output_type": "stream",
     "text": [
      "100%|█████████████████████████████████████████████████████████████████████████████████████████████████████████████████████████████████████████████████████████████████████████████████████████| 100/100 [00:02<00:00, 41.96it/s]\n"
     ]
    },
    {
     "name": "stdout",
     "output_type": "stream",
     "text": [
      "99 8 2.9330 1.9519946192758653e-07 4.999999873689376e-07\n"
     ]
    },
    {
     "name": "stderr",
     "output_type": "stream",
     "text": [
      "100%|█████████████████████████████████████████████████████████████████████████████████████████████████████████████████████████████████████████████████████████████████████████████████████████| 100/100 [00:02<00:00, 41.83it/s]\n"
     ]
    },
    {
     "name": "stdout",
     "output_type": "stream",
     "text": [
      "99 9 2.8597 0.0 4.999940210836939e-07\n"
     ]
    },
    {
     "name": "stderr",
     "output_type": "stream",
     "text": [
      "100%|█████████████████████████████████████████████████████████████████████████████████████████████████████████████████████████████████████████████████████████████████████████████████████████| 100/100 [00:09<00:00, 10.22it/s]\n"
     ]
    },
    {
     "name": "stdout",
     "output_type": "stream",
     "text": [
      "99 -1 2.7498 0.0004783146141562611 0.00017371891066432\n"
     ]
    },
    {
     "name": "stderr",
     "output_type": "stream",
     "text": [
      "100%|█████████████████████████████████████████████████████████████████████████████████████████████████████████████████████████████████████████████████████████████████████████████████████████| 100/100 [00:13<00:00,  7.27it/s]\n"
     ]
    },
    {
     "name": "stdout",
     "output_type": "stream",
     "text": [
      "99 0 2.6211 0.000381302583264187 0.00010529144667088986\n"
     ]
    },
    {
     "name": "stderr",
     "output_type": "stream",
     "text": [
      "100%|█████████████████████████████████████████████████████████████████████████████████████████████████████████████████████████████████████████████████████████████████████████████████████████| 100/100 [00:13<00:00,  7.37it/s]\n"
     ]
    },
    {
     "name": "stdout",
     "output_type": "stream",
     "text": [
      "99 1 2.5340 0.0003345201548654586 2.857604995369911e-05\n"
     ]
    },
    {
     "name": "stderr",
     "output_type": "stream",
     "text": [
      "100%|█████████████████████████████████████████████████████████████████████████████████████████████████████████████████████████████████████████████████████████████████████████████████████████| 100/100 [00:13<00:00,  7.37it/s]\n"
     ]
    },
    {
     "name": "stdout",
     "output_type": "stream",
     "text": [
      "99 2 2.4939 -0.0004879817133769393 8.151815563905984e-07\n"
     ]
    },
    {
     "name": "stderr",
     "output_type": "stream",
     "text": [
      "100%|█████████████████████████████████████████████████████████████████████████████████████████████████████████████████████████████████████████████████████████████████████████████████████████| 100/100 [00:14<00:00,  7.06it/s]\n"
     ]
    },
    {
     "name": "stdout",
     "output_type": "stream",
     "text": [
      "99 3 2.4627 0.01931775175035 7.388436642941087e-07\n"
     ]
    },
    {
     "name": "stderr",
     "output_type": "stream",
     "text": [
      "100%|█████████████████████████████████████████████████████████████████████████████████████████████████████████████████████████████████████████████████████████████████████████████████████████| 100/100 [00:13<00:00,  7.23it/s]\n"
     ]
    },
    {
     "name": "stdout",
     "output_type": "stream",
     "text": [
      "99 4 2.4430 0.11602499336004257 1.1785463721025735e-06\n"
     ]
    },
    {
     "name": "stderr",
     "output_type": "stream",
     "text": [
      "100%|█████████████████████████████████████████████████████████████████████████████████████████████████████████████████████████████████████████████████████████████████████████████████████████| 100/100 [00:13<00:00,  7.22it/s]\n"
     ]
    },
    {
     "name": "stdout",
     "output_type": "stream",
     "text": [
      "99 5 2.4284 0.27553656697273254 1.01407480542548e-06\n"
     ]
    },
    {
     "name": "stderr",
     "output_type": "stream",
     "text": [
      "100%|█████████████████████████████████████████████████████████████████████████████████████████████████████████████████████████████████████████████████████████████████████████████████████████| 100/100 [00:13<00:00,  7.39it/s]\n"
     ]
    },
    {
     "name": "stdout",
     "output_type": "stream",
     "text": [
      "99 6 2.4168 0.3400540351867676 8.687977970112115e-07\n"
     ]
    },
    {
     "name": "stderr",
     "output_type": "stream",
     "text": [
      "100%|█████████████████████████████████████████████████████████████████████████████████████████████████████████████████████████████████████████████████████████████████████████████████████████| 100/100 [00:13<00:00,  7.35it/s]\n"
     ]
    },
    {
     "name": "stdout",
     "output_type": "stream",
     "text": [
      "99 7 2.4064 -0.469953715801239 8.81013402249664e-07\n"
     ]
    },
    {
     "name": "stderr",
     "output_type": "stream",
     "text": [
      "100%|█████████████████████████████████████████████████████████████████████████████████████████████████████████████████████████████████████████████████████████████████████████████████████████| 100/100 [00:13<00:00,  7.41it/s]\n"
     ]
    },
    {
     "name": "stdout",
     "output_type": "stream",
     "text": [
      "99 8 2.3979 0.37480512261390686 1.338985312031582e-06\n"
     ]
    },
    {
     "name": "stderr",
     "output_type": "stream",
     "text": [
      "100%|█████████████████████████████████████████████████████████████████████████████████████████████████████████████████████████████████████████████████████████████████████████████████████████| 100/100 [00:13<00:00,  7.52it/s]\n"
     ]
    },
    {
     "name": "stdout",
     "output_type": "stream",
     "text": [
      "99 9 2.3921 0.41974347829818726 1.183832937385887e-06\n"
     ]
    }
   ],
   "source": [
    "trial = 0\n",
    "random.seed(trial)\n",
    "np.random.seed(trial)\n",
    "torch.manual_seed(trial)\n",
    "\n",
    "parent1 = \"smoke\"\n",
    "target1 = \"lung\"\n",
    "\n",
    "# parent2 = \"tub\"\n",
    "# target2 = \"either\"\n",
    "\"\"\"\n",
    "16 \txray \tlung \t-0.441936\n",
    "17 \txray \teither \t-0.465000\n",
    "18 \txray \ttub \t-0.439425\n",
    "31 \teither \tlung \t-0.475200\n",
    "32 \teither \ttub \t-0.472500\n",
    "\"\"\"\n",
    "\n",
    "\n",
    "sign = +1\n",
    "epsilon = 0.01\n",
    "constraints =  [MonotonicityConstraint(names.index(parent1), names.index(target1), r, sign, epsilon)] #\\\n",
    "# + [MonotonicityConstraint(names.index(parent2), names.index(target2), r, sign, epsilon)] #\\\n",
    "# + [MonotonicityConstraint(names.index(parent3), names.index(target3), r, sign, epsilon)] #\\\n",
    "\n",
    "\n",
    "model = make_spn(S=rat_S, I=rat_I, D=rat_D, R=rat_R, device=device, F=n_features, C=rat_C,leaf_base_class=leaves, leaf_base_kwargs=dict(num_bins=max(r)))\n",
    "model = train_model(model, train_loader, constraints, t_max=10, tol=1e-16, device=device, n_iterations=100)\n",
    "constraints += [\n",
    "    ContextSpecificIndependence(names.index(X), names.index(Y), names.index(Z), z, r)\n",
    "    for X, Y, Z in cis[0:1]\n",
    "    for z in range(r[names.index(Z)])\n",
    "]\n",
    "model = train_model(model, train_loader, constraints, t_max=10, tol=1e-16, device=device, n_iterations=100)"
   ]
  },
  {
   "cell_type": "code",
   "execution_count": 102,
   "id": "1b553b0c-993e-4930-ac60-5dfe937d3a5a",
   "metadata": {},
   "outputs": [
    {
     "data": {
      "text/plain": [
       "-284.28564453125"
      ]
     },
     "execution_count": 102,
     "metadata": {},
     "output_type": "execute_result"
    }
   ],
   "source": [
    "log_likelihood(test_loader, model, device)"
   ]
  },
  {
   "cell_type": "code",
   "execution_count": null,
   "id": "f19cb55b-3d7b-4793-a121-7a4c000f1924",
   "metadata": {},
   "outputs": [],
   "source": [
    "model = train(model, train_loader, constraints, t_max=10+1, device=device, tol=1e-16)"
   ]
  },
  {
   "cell_type": "code",
   "execution_count": null,
   "id": "b195d54b-5380-4d4c-b5dd-46676f8fee44",
   "metadata": {},
   "outputs": [],
   "source": [
    "log_likelihood(test_loader, model, device)"
   ]
  }
 ],
 "metadata": {
  "kernelspec": {
   "display_name": "Python 3 (ipykernel)",
   "language": "python",
   "name": "python3"
  },
  "language_info": {
   "codemirror_mode": {
    "name": "ipython",
    "version": 3
   },
   "file_extension": ".py",
   "mimetype": "text/x-python",
   "name": "python",
   "nbconvert_exporter": "python",
   "pygments_lexer": "ipython3",
   "version": "3.9.1"
  }
 },
 "nbformat": 4,
 "nbformat_minor": 5
}

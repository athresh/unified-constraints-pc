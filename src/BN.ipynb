{
 "cells": [
  {
   "cell_type": "code",
   "execution_count": 8,
   "id": "a1dc5350-9339-41f8-94e7-06fdc0d8a64b",
   "metadata": {},
   "outputs": [
    {
     "name": "stdout",
     "output_type": "stream",
     "text": [
      "\u001b[33mWARNING: Ignoring invalid distribution ~andb (/home/ubuntu/miniconda3/lib/python3.11/site-packages)\u001b[0m\u001b[33m\n",
      "\u001b[0m\u001b[33mWARNING: Ignoring invalid distribution ~andb (/home/ubuntu/miniconda3/lib/python3.11/site-packages)\u001b[0m\u001b[33m\n",
      "\u001b[0mCollecting pgmpy\n",
      "  Downloading pgmpy-0.1.24-py3-none-any.whl (2.0 MB)\n",
      "\u001b[2K     \u001b[90m━━━━━━━━━━━━━━━━━━━━━━━━━━━━━━━━━━━━━━━━\u001b[0m \u001b[32m2.0/2.0 MB\u001b[0m \u001b[31m50.8 MB/s\u001b[0m eta \u001b[36m0:00:00\u001b[0m00:01\u001b[0m\n",
      "\u001b[?25hRequirement already satisfied: networkx in /home/ubuntu/miniconda3/lib/python3.11/site-packages (from pgmpy) (3.1)\n",
      "Requirement already satisfied: numpy in /home/ubuntu/miniconda3/lib/python3.11/site-packages (from pgmpy) (1.26.0)\n",
      "Requirement already satisfied: scipy in /home/ubuntu/miniconda3/lib/python3.11/site-packages (from pgmpy) (1.11.3)\n",
      "Requirement already satisfied: scikit-learn in /home/ubuntu/miniconda3/lib/python3.11/site-packages (from pgmpy) (1.3.1)\n",
      "Requirement already satisfied: pandas in /home/ubuntu/miniconda3/lib/python3.11/site-packages (from pgmpy) (2.1.2)\n",
      "Requirement already satisfied: pyparsing in /home/ubuntu/miniconda3/lib/python3.11/site-packages (from pgmpy) (3.0.9)\n",
      "Requirement already satisfied: torch in /home/ubuntu/miniconda3/lib/python3.11/site-packages (from pgmpy) (2.0.1)\n",
      "Collecting statsmodels (from pgmpy)\n",
      "  Downloading statsmodels-0.14.1-cp311-cp311-manylinux_2_17_x86_64.manylinux2014_x86_64.whl (10.8 MB)\n",
      "\u001b[2K     \u001b[90m━━━━━━━━━━━━━━━━━━━━━━━━━━━━━━━━━━━━━━━━\u001b[0m \u001b[32m10.8/10.8 MB\u001b[0m \u001b[31m85.4 MB/s\u001b[0m eta \u001b[36m0:00:00\u001b[0m00:01\u001b[0m00:01\u001b[0m\n",
      "\u001b[?25hRequirement already satisfied: tqdm in /home/ubuntu/miniconda3/lib/python3.11/site-packages (from pgmpy) (4.66.1)\n",
      "Requirement already satisfied: joblib in /home/ubuntu/miniconda3/lib/python3.11/site-packages (from pgmpy) (1.3.2)\n",
      "Requirement already satisfied: opt-einsum in /home/ubuntu/miniconda3/lib/python3.11/site-packages (from pgmpy) (3.3.0)\n",
      "Requirement already satisfied: python-dateutil>=2.8.2 in /home/ubuntu/miniconda3/lib/python3.11/site-packages (from pandas->pgmpy) (2.8.2)\n",
      "Requirement already satisfied: pytz>=2020.1 in /home/ubuntu/miniconda3/lib/python3.11/site-packages (from pandas->pgmpy) (2023.3.post1)\n",
      "Requirement already satisfied: tzdata>=2022.1 in /home/ubuntu/miniconda3/lib/python3.11/site-packages (from pandas->pgmpy) (2023.3)\n",
      "Requirement already satisfied: threadpoolctl>=2.0.0 in /home/ubuntu/miniconda3/lib/python3.11/site-packages (from scikit-learn->pgmpy) (3.2.0)\n",
      "Collecting patsy>=0.5.4 (from statsmodels->pgmpy)\n",
      "  Downloading patsy-0.5.6-py2.py3-none-any.whl (233 kB)\n",
      "\u001b[2K     \u001b[90m━━━━━━━━━━━━━━━━━━━━━━━━━━━━━━━━━━━━━━\u001b[0m \u001b[32m233.9/233.9 kB\u001b[0m \u001b[31m47.0 MB/s\u001b[0m eta \u001b[36m0:00:00\u001b[0m\n",
      "\u001b[?25hRequirement already satisfied: packaging>=21.3 in /home/ubuntu/miniconda3/lib/python3.11/site-packages (from statsmodels->pgmpy) (23.0)\n",
      "Requirement already satisfied: filelock in /home/ubuntu/miniconda3/lib/python3.11/site-packages (from torch->pgmpy) (3.9.0)\n",
      "Requirement already satisfied: typing-extensions in /home/ubuntu/miniconda3/lib/python3.11/site-packages (from torch->pgmpy) (4.7.1)\n",
      "Requirement already satisfied: sympy in /home/ubuntu/miniconda3/lib/python3.11/site-packages (from torch->pgmpy) (1.11.1)\n",
      "Requirement already satisfied: jinja2 in /home/ubuntu/miniconda3/lib/python3.11/site-packages (from torch->pgmpy) (3.1.2)\n",
      "Requirement already satisfied: six in /home/ubuntu/miniconda3/lib/python3.11/site-packages (from patsy>=0.5.4->statsmodels->pgmpy) (1.16.0)\n",
      "Requirement already satisfied: MarkupSafe>=2.0 in /home/ubuntu/miniconda3/lib/python3.11/site-packages (from jinja2->torch->pgmpy) (2.1.1)\n",
      "Requirement already satisfied: mpmath>=0.19 in /home/ubuntu/miniconda3/lib/python3.11/site-packages (from sympy->torch->pgmpy) (1.3.0)\n",
      "\u001b[33mWARNING: Ignoring invalid distribution ~andb (/home/ubuntu/miniconda3/lib/python3.11/site-packages)\u001b[0m\u001b[33m\n",
      "\u001b[0mInstalling collected packages: patsy, statsmodels, pgmpy\n",
      "\u001b[33mWARNING: Ignoring invalid distribution ~andb (/home/ubuntu/miniconda3/lib/python3.11/site-packages)\u001b[0m\u001b[33m\n",
      "\u001b[0m\u001b[33mWARNING: Ignoring invalid distribution ~andb (/home/ubuntu/miniconda3/lib/python3.11/site-packages)\u001b[0m\u001b[33m\n",
      "\u001b[0m\u001b[33mWARNING: Ignoring invalid distribution ~andb (/home/ubuntu/miniconda3/lib/python3.11/site-packages)\u001b[0m\u001b[33m\n",
      "\u001b[0mSuccessfully installed patsy-0.5.6 pgmpy-0.1.24 statsmodels-0.14.1\n",
      "\u001b[33mWARNING: Ignoring invalid distribution ~andb (/home/ubuntu/miniconda3/lib/python3.11/site-packages)\u001b[0m\u001b[33m\n",
      "\u001b[0m"
     ]
    }
   ],
   "source": [
    "# !pip install pgmpy pyAgrum daft"
   ]
  },
  {
   "cell_type": "code",
   "execution_count": 1,
   "id": "716a0394-433a-422f-b60b-6c95eb44d2e9",
   "metadata": {},
   "outputs": [],
   "source": [
    "import sys\n",
    "from os import path\n",
    "sys.path.append(path.join(\"..\", \"src\"))\n",
    "import torch\n",
    "import torchvision\n",
    "from torch import nn\n",
    "from torch import optim\n",
    "from torchvision import datasets, transforms\n",
    "from torch.utils.data import Dataset, ConcatDataset, TensorDataset\n",
    "from sklearn.model_selection import train_test_split\n",
    "from sklearn.preprocessing import KBinsDiscretizer\n",
    "from packages.spn.experiments.RandomSPNs_layerwise.rat_spn import RatSpn, RatSpnConfig\n",
    "from packages.spn.experiments.RandomSPNs_layerwise.distributions import RatNormal\n",
    "from packages.spn.algorithms.layerwise.distributions import Bernoulli, Categorical\n",
    "from constraint.constraints import *\n",
    "import time\n",
    "import argparse\n",
    "from tqdm import tqdm\n",
    "from pathlib import Path"
   ]
  },
  {
   "cell_type": "code",
   "execution_count": 2,
   "id": "3ec9004f-4d7b-4aef-922f-7cbb262feae8",
   "metadata": {},
   "outputs": [
    {
     "data": {
      "text/plain": [
       "<Axes: >"
      ]
     },
     "execution_count": 2,
     "metadata": {},
     "output_type": "execute_result"
    },
    {
     "data": {
      "image/png": "[encoded data removed]",
      "text/plain": [
       "<Figure size 197.56x204.891 with 1 Axes>"
      ]
     },
     "metadata": {},
     "output_type": "display_data"
    }
   ],
   "source": [
    "from pgmpy.readwrite import BIFReader\n",
    "name = \"earthquake\"\n",
    "bn = BIFReader(f\"{name}.bif\").get_model()\n",
    "bn.to_daft().render()"
   ]
  },
  {
   "cell_type": "code",
   "execution_count": 3,
   "id": "4371302f-cb91-4d5d-a1ed-c9d5fe12544a",
   "metadata": {},
   "outputs": [
    {
     "data": {
      "application/vnd.jupyter.widget-view+json": {
       "model_id": "8e7a3803f8504f2c9502c6dec8947e8f",
       "version_major": 2,
       "version_minor": 0
      },
      "text/plain": [
       "  0%|          | 0/5 [00:00<?, ?it/s]"
      ]
     },
     "metadata": {},
     "output_type": "display_data"
    },
    {
     "name": "stderr",
     "output_type": "stream",
     "text": [
      "/home/ubuntu/miniconda3/lib/python3.11/site-packages/pgmpy/sampling/base.py:582: FutureWarning: Passing a DataFrame to DataFrame.from_records is deprecated. Use set_index and/or drop to modify the DataFrame instead.\n",
      "  df = pd.DataFrame.from_records(samples)\n"
     ]
    },
    {
     "data": {
      "text/html": [
       "<div>\n",
       "<style scoped>\n",
       "    .dataframe tbody tr th:only-of-type {\n",
       "        vertical-align: middle;\n",
       "    }\n",
       "\n",
       "    .dataframe tbody tr th {\n",
       "        vertical-align: top;\n",
       "    }\n",
       "\n",
       "    .dataframe thead th {\n",
       "        text-align: right;\n",
       "    }\n",
       "</style>\n",
       "<table border=\"1\" class=\"dataframe\">\n",
       "  <thead>\n",
       "    <tr style=\"text-align: right;\">\n",
       "      <th></th>\n",
       "      <th>JohnCalls</th>\n",
       "      <th>MaryCalls</th>\n",
       "      <th>Alarm</th>\n",
       "      <th>Earthquake</th>\n",
       "      <th>Burglary</th>\n",
       "    </tr>\n",
       "  </thead>\n",
       "  <tbody>\n",
       "    <tr>\n",
       "      <th>0</th>\n",
       "      <td>0</td>\n",
       "      <td>0</td>\n",
       "      <td>0</td>\n",
       "      <td>0</td>\n",
       "      <td>0</td>\n",
       "    </tr>\n",
       "    <tr>\n",
       "      <th>1</th>\n",
       "      <td>0</td>\n",
       "      <td>0</td>\n",
       "      <td>0</td>\n",
       "      <td>0</td>\n",
       "      <td>0</td>\n",
       "    </tr>\n",
       "    <tr>\n",
       "      <th>2</th>\n",
       "      <td>0</td>\n",
       "      <td>0</td>\n",
       "      <td>0</td>\n",
       "      <td>0</td>\n",
       "      <td>0</td>\n",
       "    </tr>\n",
       "    <tr>\n",
       "      <th>3</th>\n",
       "      <td>0</td>\n",
       "      <td>0</td>\n",
       "      <td>0</td>\n",
       "      <td>0</td>\n",
       "      <td>0</td>\n",
       "    </tr>\n",
       "    <tr>\n",
       "      <th>4</th>\n",
       "      <td>0</td>\n",
       "      <td>0</td>\n",
       "      <td>0</td>\n",
       "      <td>0</td>\n",
       "      <td>0</td>\n",
       "    </tr>\n",
       "    <tr>\n",
       "      <th>...</th>\n",
       "      <td>...</td>\n",
       "      <td>...</td>\n",
       "      <td>...</td>\n",
       "      <td>...</td>\n",
       "      <td>...</td>\n",
       "    </tr>\n",
       "    <tr>\n",
       "      <th>95</th>\n",
       "      <td>0</td>\n",
       "      <td>0</td>\n",
       "      <td>0</td>\n",
       "      <td>0</td>\n",
       "      <td>0</td>\n",
       "    </tr>\n",
       "    <tr>\n",
       "      <th>96</th>\n",
       "      <td>0</td>\n",
       "      <td>0</td>\n",
       "      <td>0</td>\n",
       "      <td>0</td>\n",
       "      <td>0</td>\n",
       "    </tr>\n",
       "    <tr>\n",
       "      <th>97</th>\n",
       "      <td>0</td>\n",
       "      <td>0</td>\n",
       "      <td>0</td>\n",
       "      <td>0</td>\n",
       "      <td>0</td>\n",
       "    </tr>\n",
       "    <tr>\n",
       "      <th>98</th>\n",
       "      <td>0</td>\n",
       "      <td>0</td>\n",
       "      <td>0</td>\n",
       "      <td>0</td>\n",
       "      <td>0</td>\n",
       "    </tr>\n",
       "    <tr>\n",
       "      <th>99</th>\n",
       "      <td>0</td>\n",
       "      <td>0</td>\n",
       "      <td>0</td>\n",
       "      <td>0</td>\n",
       "      <td>0</td>\n",
       "    </tr>\n",
       "  </tbody>\n",
       "</table>\n",
       "<p>100 rows × 5 columns</p>\n",
       "</div>"
      ],
      "text/plain": [
       "   JohnCalls MaryCalls Alarm Earthquake Burglary\n",
       "0          0         0     0          0        0\n",
       "1          0         0     0          0        0\n",
       "2          0         0     0          0        0\n",
       "3          0         0     0          0        0\n",
       "4          0         0     0          0        0\n",
       "..       ...       ...   ...        ...      ...\n",
       "95         0         0     0          0        0\n",
       "96         0         0     0          0        0\n",
       "97         0         0     0          0        0\n",
       "98         0         0     0          0        0\n",
       "99         0         0     0          0        0\n",
       "\n",
       "[100 rows x 5 columns]"
      ]
     },
     "execution_count": 3,
     "metadata": {},
     "output_type": "execute_result"
    }
   ],
   "source": [
    "bn.simulate(n_samples=100)"
   ]
  },
  {
   "cell_type": "code",
   "execution_count": 4,
   "id": "906514b9-7538-4a7a-b126-4206152356a0",
   "metadata": {},
   "outputs": [],
   "source": [
    "def get_cis(bn):\n",
    "    return [\n",
    "        (list(indep.event1)[0], each, list(indep.event3)[0])\n",
    "        \n",
    "        for indep in bn.get_independencies().get_assertions()\n",
    "        for each in indep.event2\n",
    "        if len(indep.event3)==1\n",
    "    ]\n",
    "import random\n",
    "cis = random.sample(get_cis(bn), 10)"
   ]
  },
  {
   "cell_type": "code",
   "execution_count": 5,
   "id": "f24a77a2-ae5d-472c-a85e-fd5e1675f53c",
   "metadata": {},
   "outputs": [
    {
     "data": {
      "application/vnd.jupyter.widget-view+json": {
       "model_id": "6b84b8ad778c4ce7bc9e5ea182621e05",
       "version_major": 2,
       "version_minor": 0
      },
      "text/plain": [
       "  0%|          | 0/5 [00:00<?, ?it/s]"
      ]
     },
     "metadata": {},
     "output_type": "display_data"
    },
    {
     "name": "stderr",
     "output_type": "stream",
     "text": [
      "/home/ubuntu/miniconda3/lib/python3.11/site-packages/pgmpy/sampling/base.py:582: FutureWarning: Passing a DataFrame to DataFrame.from_records is deprecated. Use set_index and/or drop to modify the DataFrame instead.\n",
      "  df = pd.DataFrame.from_records(samples)\n"
     ]
    },
    {
     "data": {
      "application/vnd.jupyter.widget-view+json": {
       "model_id": "cad84a386f8043ebb977acb54474d3dd",
       "version_major": 2,
       "version_minor": 0
      },
      "text/plain": [
       "  0%|          | 0/5 [00:00<?, ?it/s]"
      ]
     },
     "metadata": {},
     "output_type": "display_data"
    },
    {
     "name": "stderr",
     "output_type": "stream",
     "text": [
      "/home/ubuntu/miniconda3/lib/python3.11/site-packages/pgmpy/sampling/base.py:582: FutureWarning: Passing a DataFrame to DataFrame.from_records is deprecated. Use set_index and/or drop to modify the DataFrame instead.\n",
      "  df = pd.DataFrame.from_records(samples)\n"
     ]
    }
   ],
   "source": [
    "train = bn.simulate(n_samples=100, seed=0).astype(int) # sample_from_bn(\"sachs\", 100)\n",
    "# train.replace({\"LOW\": 0, \"AVG\": 1, \"HIGH\": 2}, inplace=True)\n",
    "\n",
    "test = bn.simulate(n_samples=100, seed=1).astype(int) # sample_from_bn(\"sachs\", 100)\n",
    "# test.replace({\"LOW\": 0, \"AVG\": 1, \"HIGH\": 2}, inplace=True)"
   ]
  },
  {
   "cell_type": "code",
   "execution_count": 6,
   "id": "47754819-c44f-4937-80c8-7e42a7f17318",
   "metadata": {},
   "outputs": [],
   "source": [
    "use_cuda=True\n",
    "kwargs = {\"num_workers\": 8, \"pin_memory\": True} if use_cuda else {}\n",
    "batch_size = 64\n",
    "test_batch_size = batch_size\n",
    "\n",
    "\n",
    "train_dataset, test_dataset = TensorDataset(torch.Tensor(train.to_numpy())), TensorDataset(torch.Tensor(test.to_numpy()))\n",
    "# Train data loader\n",
    "train_loader = torch.utils.data.DataLoader(\n",
    "    train_dataset,\n",
    "    batch_size=batch_size,\n",
    "    shuffle=True,\n",
    "    **kwargs,\n",
    ")\n",
    "\n",
    "# Test data loader\n",
    "test_loader = torch.utils.data.DataLoader(\n",
    "    test_dataset,\n",
    "    batch_size=test_batch_size,\n",
    "    shuffle=False,\n",
    "    **kwargs,\n",
    ")\n",
    "names = train.columns.tolist()"
   ]
  },
  {
   "cell_type": "code",
   "execution_count": 7,
   "id": "f719170e-06be-4043-a982-44c0eac80c5d",
   "metadata": {},
   "outputs": [
    {
     "name": "stdout",
     "output_type": "stream",
     "text": [
      "Using device: cuda\n"
     ]
    }
   ],
   "source": [
    "def make_spn(S, I, R, D, F, C, device, leaf_base_class, leaf_base_kwargs=None) -> RatSpn:\n",
    "        \"\"\"Construct the RatSpn\"\"\"\n",
    "\n",
    "        # Setup RatSpnConfig\n",
    "        config = RatSpnConfig()\n",
    "        config.F = F\n",
    "        config.R = R\n",
    "        config.D = D\n",
    "        config.I = I\n",
    "        config.S = S\n",
    "        config.C = C\n",
    "        config.dropout = 0.0\n",
    "        config.leaf_base_class = leaf_base_class \n",
    "        config.leaf_base_kwargs = {} if leaf_base_kwargs is None else leaf_base_kwargs\n",
    "\n",
    "        # Construct RatSpn from config\n",
    "        model = RatSpn(config)\n",
    "\n",
    "        model = model.to(device)\n",
    "        model.train()\n",
    "\n",
    "        print(\"Using device:\", device)\n",
    "        return model\n",
    "\n",
    "\n",
    "rat_S, rat_I, rat_D, rat_R, rat_C, leaves = 20, 20, 2, 5, 1,Categorical #RatNormal\n",
    "n_features = train_loader.dataset[0][0].shape[0]\n",
    "r = [bn.get_cardinality(each) for each in test.columns]\n",
    "device=torch.device(\"cuda\")\n",
    "dropout=0\n",
    "model = make_spn(S=rat_S, I=rat_I, D=rat_D, R=rat_R, device=device, F=n_features, C=rat_C,leaf_base_class=leaves, leaf_base_kwargs=dict(num_bins=max(r)))"
   ]
  },
  {
   "cell_type": "code",
   "execution_count": 28,
   "id": "d94b1b55-cd7d-4617-bf08-d656fc2410f3",
   "metadata": {},
   "outputs": [],
   "source": [
    "def train(model, train_loader, constraints, n_iterations=1000, t_max=0, tol=1e-4, device='cpu'):\n",
    "    \n",
    "    model.train()\n",
    "    optimizer = optim.Adam(model.parameters(), lr=0.01)\n",
    "    prev_loss, total_loss = 0, 0\n",
    "    rel_change_loss, rel_change_penalty = 0, 0\n",
    "    prev_penalty, total_penalty = 0, 0\n",
    "    config_data = {}\n",
    "    prev_loss = 0\n",
    "    for t in range(-1, t_max):    \n",
    "        total_data_loss, total_penalty = 0, 0\n",
    "        for iteration in range(n_iterations):\n",
    "            total_loss = 0\n",
    "            for (data,) in tqdm(train_loader, total = len(train_loader)):\n",
    "                data = data.to(device)\n",
    "                optimizer.zero_grad()\n",
    "                outputs = model(data)\n",
    "                loss = -outputs.sum() / data.shape[0]\n",
    "                total_data_loss += loss\n",
    "                \n",
    "                penalty = torch.tensor(0.0, device=device)\n",
    "                for constraint in constraints:\n",
    "                    penalty += constraint.violation(model, train_loader.dataset, config_data, device=device, batch_size=64)\n",
    "                \n",
    "                total_penalty += penalty\n",
    "                if t >= 0:\n",
    "                    lambda_ = 10**t\n",
    "                    loss += lambda_*penalty\n",
    "                total_loss += loss\n",
    "                loss.backward()\n",
    "                optimizer.step()\n",
    "            \n",
    "            \n",
    "            if iteration > 0:\n",
    "                rel_change_loss = (prev_loss - total_loss) / prev_loss\n",
    "            if iteration >0 and rel_change_loss < tol:\n",
    "                break\n",
    "            prev_loss = total_loss\n",
    "        \n",
    "        if t >= 0 and total_penalty/(iteration+1) < tol:\n",
    "            break\n",
    "        print (f\"{iteration} {t} {total_data_loss/(iteration+1):.4f} {rel_change_loss} {total_penalty/(iteration+1)}\")\n",
    "        \"\"\"\n",
    "        if iteration > 0: \n",
    "            rel_change_loss = (prev_loss - total_loss) / prev_loss\n",
    "            rel_change_penalty = (prev_penalty - total_penalty) / prev_penalty\n",
    "            if rel_change_loss < tol or iteration % n_iterations == 0:\n",
    "                if total_penalty < tol or t == t_max:\n",
    "                    break\n",
    "                else:\n",
    "                    t = min(t + 1, t_max)                    \n",
    "                    \n",
    "                \n",
    "            if iteration % 10 == 1:\n",
    "                print (f\"{t} {total_loss:.4f}, {rel_change_loss:.4f}, {total_penalty:.4f}, {rel_change_penalty:.4f}\")\n",
    "        prev_loss = total_loss \n",
    "        prev_penalty = total_penalty\n",
    "        \"\"\"\n",
    "    # print (f\"{t} {total_loss:.4f}, {rel_change_loss:.4f}, {total_penalty:.4f}, {rel_change_penalty:.4f}\")\n",
    "    return model\n",
    "            "
   ]
  },
  {
   "cell_type": "code",
   "execution_count": 29,
   "id": "a6799bad-5d55-4bf3-a708-1a19b28a0c22",
   "metadata": {},
   "outputs": [
    {
     "name": "stdout",
     "output_type": "stream",
     "text": [
      "Using device: cuda\n"
     ]
    },
    {
     "name": "stderr",
     "output_type": "stream",
     "text": [
      "100%|█████████████████████████████████████████████| 2/2 [00:00<00:00,  5.81it/s]\n",
      "100%|█████████████████████████████████████████████| 2/2 [00:00<00:00,  6.08it/s]\n",
      "100%|█████████████████████████████████████████████| 2/2 [00:00<00:00,  6.10it/s]\n",
      "100%|█████████████████████████████████████████████| 2/2 [00:00<00:00,  6.14it/s]\n",
      "100%|█████████████████████████████████████████████| 2/2 [00:00<00:00,  6.19it/s]\n",
      "100%|█████████████████████████████████████████████| 2/2 [00:00<00:00,  6.15it/s]\n",
      "100%|█████████████████████████████████████████████| 2/2 [00:00<00:00,  6.12it/s]\n",
      "100%|█████████████████████████████████████████████| 2/2 [00:00<00:00,  5.93it/s]\n",
      "100%|█████████████████████████████████████████████| 2/2 [00:00<00:00,  6.13it/s]\n",
      "100%|█████████████████████████████████████████████| 2/2 [00:00<00:00,  6.13it/s]\n",
      "100%|█████████████████████████████████████████████| 2/2 [00:00<00:00,  6.13it/s]\n",
      "100%|█████████████████████████████████████████████| 2/2 [00:00<00:00,  6.00it/s]\n",
      "100%|█████████████████████████████████████████████| 2/2 [00:00<00:00,  6.16it/s]\n",
      "100%|█████████████████████████████████████████████| 2/2 [00:00<00:00,  6.16it/s]\n",
      "100%|█████████████████████████████████████████████| 2/2 [00:00<00:00,  6.16it/s]\n",
      "100%|█████████████████████████████████████████████| 2/2 [00:00<00:00,  6.11it/s]\n",
      "100%|█████████████████████████████████████████████| 2/2 [00:00<00:00,  6.16it/s]\n",
      "100%|█████████████████████████████████████████████| 2/2 [00:00<00:00,  6.13it/s]\n",
      "100%|█████████████████████████████████████████████| 2/2 [00:00<00:00,  6.14it/s]\n",
      "100%|█████████████████████████████████████████████| 2/2 [00:00<00:00,  6.16it/s]\n",
      "100%|█████████████████████████████████████████████| 2/2 [00:00<00:00,  6.13it/s]\n",
      "100%|█████████████████████████████████████████████| 2/2 [00:00<00:00,  6.13it/s]\n",
      "100%|█████████████████████████████████████████████| 2/2 [00:00<00:00,  6.17it/s]\n",
      "100%|█████████████████████████████████████████████| 2/2 [00:00<00:00,  6.17it/s]\n",
      "100%|█████████████████████████████████████████████| 2/2 [00:00<00:00,  6.20it/s]\n",
      "100%|█████████████████████████████████████████████| 2/2 [00:00<00:00,  6.15it/s]\n",
      "100%|█████████████████████████████████████████████| 2/2 [00:00<00:00,  6.16it/s]\n",
      "100%|█████████████████████████████████████████████| 2/2 [00:00<00:00,  6.14it/s]\n",
      "100%|█████████████████████████████████████████████| 2/2 [00:00<00:00,  6.13it/s]\n",
      "100%|█████████████████████████████████████████████| 2/2 [00:00<00:00,  6.18it/s]\n",
      "100%|█████████████████████████████████████████████| 2/2 [00:00<00:00,  6.09it/s]\n",
      "100%|█████████████████████████████████████████████| 2/2 [00:00<00:00,  6.15it/s]\n",
      "100%|█████████████████████████████████████████████| 2/2 [00:00<00:00,  6.06it/s]\n",
      "100%|█████████████████████████████████████████████| 2/2 [00:00<00:00,  6.15it/s]\n",
      "100%|█████████████████████████████████████████████| 2/2 [00:00<00:00,  6.13it/s]\n",
      "100%|█████████████████████████████████████████████| 2/2 [00:00<00:00,  5.86it/s]\n",
      "100%|█████████████████████████████████████████████| 2/2 [00:00<00:00,  5.83it/s]\n",
      "100%|█████████████████████████████████████████████| 2/2 [00:00<00:00,  5.91it/s]"
     ]
    },
    {
     "name": "stdout",
     "output_type": "stream",
     "text": [
      "37 -1 4.4479 -0.012635331600904465 0.02144527994096279\n"
     ]
    },
    {
     "name": "stderr",
     "output_type": "stream",
     "text": [
      "\n"
     ]
    }
   ],
   "source": [
    "\n",
    "\"\"\"\n",
    "class ContextSpecificIndependence(EqualityConstraint):\n",
    "    def __init__(self, X, Y, Z, z, r):\n",
    "        # X \\indep Y | Z = z\n",
    "        self.X = X\n",
    "        self.Y = Y\n",
    "        self.Z = Z\n",
    "        self.z = z\n",
    "        self.r = r\n",
    "        super().__init__()\n",
    "    \n",
    "    def violation(self, model, dataset, config_data, device=\"cpu\", **kwargs):\n",
    "        # P(X | Y, Z = z) = P(X | Z = z) \n",
    "        n_features = len(self.r)\n",
    "        data = torch.zeros((self.r[self.Y], n_features), device=device)\n",
    "        for i in range(self.r[self.Y]):\n",
    "            data[i, self.Y] = i\n",
    "            data[i, self.Z] = self.z\n",
    "        \n",
    "        marg_indices = [i for i in range(n_features) if i not in (self.X, self.Y, self.Z )]\n",
    "        p1 = predict_proba(model, self.r, data, self.X, marg_indices, device)\n",
    "        p2 = predict_proba(model, self.r, data, self.X, marg_indices + [self.Y], device)\n",
    "        delta = self.delta(p1.ravel(), p2.ravel())\n",
    "        violation = self.degree_violation(delta)\n",
    "        return violation / (self.r[self.X]*self.r[self.Y])\n",
    "\"\"\"        \n",
    "constraints = [\n",
    "    ContextSpecificIndependence(names.index(X), names.index(Y), names.index(Z), z, r)\n",
    "    for X, Y, Z in cis[0:1]\n",
    "    for z in range(r[names.index(Z)])\n",
    "] + [\n",
    "    ContextSpecificIndependence(names.index(Y), names.index(X), names.index(Z), z, r)\n",
    "    for X, Y, Z in cis[0:1]\n",
    "    for z in range(r[names.index(Z)])\n",
    "]\n",
    "\n",
    "\n",
    "model = make_spn(S=rat_S, I=rat_I, D=rat_D, R=rat_R, device=device, F=n_features, C=rat_C,leaf_base_class=leaves, leaf_base_kwargs=dict(num_bins=max(r)))\n",
    "model = train(model, train_loader, constraints, t_max=0, tol=1e-16,device=device)"
   ]
  },
  {
   "cell_type": "code",
   "execution_count": 30,
   "id": "e714d901-cd61-4d8b-8b8e-7d7b2f0ce67e",
   "metadata": {},
   "outputs": [
    {
     "data": {
      "text/plain": [
       "-144.79891967773438"
      ]
     },
     "execution_count": 30,
     "metadata": {},
     "output_type": "execute_result"
    }
   ],
   "source": [
    "log_likelihood(test_loader, model, device)"
   ]
  },
  {
   "cell_type": "code",
   "execution_count": 31,
   "id": "f19cb55b-3d7b-4793-a121-7a4c000f1924",
   "metadata": {},
   "outputs": [
    {
     "name": "stderr",
     "output_type": "stream",
     "text": [
      "100%|█████████████████████████████████████████████| 2/2 [00:00<00:00,  5.80it/s]\n",
      "100%|█████████████████████████████████████████████| 2/2 [00:00<00:00,  6.10it/s]\n"
     ]
    },
    {
     "name": "stdout",
     "output_type": "stream",
     "text": [
      "1 -1 2.5234 -0.006875011138617992 0.05394047126173973\n"
     ]
    },
    {
     "name": "stderr",
     "output_type": "stream",
     "text": [
      "100%|█████████████████████████████████████████████| 2/2 [00:00<00:00,  5.24it/s]\n",
      "100%|█████████████████████████████████████████████| 2/2 [00:00<00:00,  5.36it/s]\n",
      "100%|█████████████████████████████████████████████| 2/2 [00:00<00:00,  5.32it/s]\n",
      "100%|█████████████████████████████████████████████| 2/2 [00:00<00:00,  5.34it/s]\n",
      "100%|█████████████████████████████████████████████| 2/2 [00:00<00:00,  5.34it/s]\n",
      "100%|█████████████████████████████████████████████| 2/2 [00:00<00:00,  5.31it/s]\n"
     ]
    },
    {
     "name": "stdout",
     "output_type": "stream",
     "text": [
      "5 0 2.2483 -0.0050463383086025715 0.05094330012798309\n"
     ]
    },
    {
     "name": "stderr",
     "output_type": "stream",
     "text": [
      "100%|█████████████████████████████████████████████| 2/2 [00:00<00:00,  5.21it/s]\n",
      "100%|█████████████████████████████████████████████| 2/2 [00:00<00:00,  5.30it/s]\n",
      "100%|█████████████████████████████████████████████| 2/2 [00:00<00:00,  5.31it/s]\n",
      "100%|█████████████████████████████████████████████| 2/2 [00:00<00:00,  5.34it/s]\n",
      "100%|█████████████████████████████████████████████| 2/2 [00:00<00:00,  5.33it/s]\n",
      "100%|█████████████████████████████████████████████| 2/2 [00:00<00:00,  5.33it/s]\n"
     ]
    },
    {
     "name": "stdout",
     "output_type": "stream",
     "text": [
      "5 1 1.9478 -0.02415626496076584 0.023432767018675804\n"
     ]
    },
    {
     "name": "stderr",
     "output_type": "stream",
     "text": [
      "100%|█████████████████████████████████████████████| 2/2 [00:00<00:00,  5.20it/s]\n",
      "100%|█████████████████████████████████████████████| 2/2 [00:00<00:00,  5.34it/s]\n",
      "100%|█████████████████████████████████████████████| 2/2 [00:00<00:00,  5.31it/s]\n",
      "100%|█████████████████████████████████████████████| 2/2 [00:00<00:00,  5.34it/s]\n",
      "100%|█████████████████████████████████████████████| 2/2 [00:00<00:00,  5.33it/s]\n"
     ]
    },
    {
     "name": "stdout",
     "output_type": "stream",
     "text": [
      "4 2 1.7611 -0.06457554548978806 0.0035997626837342978\n"
     ]
    },
    {
     "name": "stderr",
     "output_type": "stream",
     "text": [
      "100%|█████████████████████████████████████████████| 2/2 [00:00<00:00,  5.10it/s]\n",
      "100%|█████████████████████████████████████████████| 2/2 [00:00<00:00,  5.33it/s]\n"
     ]
    },
    {
     "name": "stdout",
     "output_type": "stream",
     "text": [
      "1 3 1.7756 -0.04760900139808655 0.002287347801029682\n"
     ]
    },
    {
     "name": "stderr",
     "output_type": "stream",
     "text": [
      "100%|█████████████████████████████████████████████| 2/2 [00:00<00:00,  5.31it/s]\n",
      "100%|█████████████████████████████████████████████| 2/2 [00:00<00:00,  5.34it/s]\n",
      "100%|█████████████████████████████████████████████| 2/2 [00:00<00:00,  5.05it/s]\n"
     ]
    },
    {
     "name": "stdout",
     "output_type": "stream",
     "text": [
      "2 4 1.7531 -0.3803307116031647 0.0030766658019274473\n"
     ]
    },
    {
     "name": "stderr",
     "output_type": "stream",
     "text": [
      "100%|█████████████████████████████████████████████| 2/2 [00:00<00:00,  5.23it/s]\n",
      "100%|█████████████████████████████████████████████| 2/2 [00:00<00:00,  5.24it/s]\n"
     ]
    },
    {
     "name": "stdout",
     "output_type": "stream",
     "text": [
      "1 5 1.6648 -0.5304370522499084 0.001213432289659977\n"
     ]
    },
    {
     "name": "stderr",
     "output_type": "stream",
     "text": [
      "100%|█████████████████████████████████████████████| 2/2 [00:00<00:00,  5.10it/s]\n",
      "100%|█████████████████████████████████████████████| 2/2 [00:00<00:00,  5.34it/s]\n",
      "100%|█████████████████████████████████████████████| 2/2 [00:00<00:00,  5.33it/s]\n"
     ]
    },
    {
     "name": "stdout",
     "output_type": "stream",
     "text": [
      "2 6 1.7355 -1.4433180093765259 0.0028522580396384\n"
     ]
    },
    {
     "name": "stderr",
     "output_type": "stream",
     "text": [
      "100%|█████████████████████████████████████████████| 2/2 [00:00<00:00,  5.16it/s]\n",
      "100%|█████████████████████████████████████████████| 2/2 [00:00<00:00,  5.34it/s]\n"
     ]
    },
    {
     "name": "stdout",
     "output_type": "stream",
     "text": [
      "1 7 1.7623 -0.7445425391197205 0.0034390846267342567\n"
     ]
    },
    {
     "name": "stderr",
     "output_type": "stream",
     "text": [
      "100%|█████████████████████████████████████████████| 2/2 [00:00<00:00,  5.32it/s]\n",
      "100%|█████████████████████████████████████████████| 2/2 [00:00<00:00,  5.33it/s]\n"
     ]
    },
    {
     "name": "stdout",
     "output_type": "stream",
     "text": [
      "1 8 1.6888 -1.1011296510696411 0.0024252403527498245\n"
     ]
    },
    {
     "name": "stderr",
     "output_type": "stream",
     "text": [
      "100%|█████████████████████████████████████████████| 2/2 [00:00<00:00,  5.29it/s]\n",
      "100%|█████████████████████████████████████████████| 2/2 [00:00<00:00,  5.34it/s]\n"
     ]
    },
    {
     "name": "stdout",
     "output_type": "stream",
     "text": [
      "1 9 1.7091 -0.06949002295732498 0.0027409102767705917\n"
     ]
    },
    {
     "name": "stderr",
     "output_type": "stream",
     "text": [
      "100%|█████████████████████████████████████████████| 2/2 [00:00<00:00,  5.17it/s]\n",
      "100%|█████████████████████████████████████████████| 2/2 [00:00<00:00,  5.33it/s]\n",
      "100%|█████████████████████████████████████████████| 2/2 [00:00<00:00,  5.30it/s]\n",
      "100%|█████████████████████████████████████████████| 2/2 [00:00<00:00,  5.34it/s]\n",
      "100%|█████████████████████████████████████████████| 2/2 [00:00<00:00,  5.34it/s]\n",
      "100%|█████████████████████████████████████████████| 2/2 [00:00<00:00,  5.32it/s]\n",
      "100%|█████████████████████████████████████████████| 2/2 [00:00<00:00,  5.31it/s]\n",
      "100%|█████████████████████████████████████████████| 2/2 [00:00<00:00,  5.32it/s]\n",
      "100%|█████████████████████████████████████████████| 2/2 [00:00<00:00,  5.35it/s]"
     ]
    },
    {
     "name": "stdout",
     "output_type": "stream",
     "text": [
      "8 10 1.6936 -1.3303232192993164 0.0008446257561445236\n"
     ]
    },
    {
     "name": "stderr",
     "output_type": "stream",
     "text": [
      "\n"
     ]
    }
   ],
   "source": [
    "model = train(model, train_loader, constraints, t_max=10+1, device=device, tol=1e-16)"
   ]
  },
  {
   "cell_type": "code",
   "execution_count": 32,
   "id": "b195d54b-5380-4d4c-b5dd-46676f8fee44",
   "metadata": {},
   "outputs": [
    {
     "data": {
      "text/plain": [
       "-107.48369979858398"
      ]
     },
     "execution_count": 32,
     "metadata": {},
     "output_type": "execute_result"
    }
   ],
   "source": [
    "log_likelihood(test_loader, model, device)"
   ]
  }
 ],
 "metadata": {
  "kernelspec": {
   "display_name": "Python 3 (ipykernel)",
   "language": "python",
   "name": "python3"
  },
  "language_info": {
   "codemirror_mode": {
    "name": "ipython",
    "version": 3
   },
   "file_extension": ".py",
   "mimetype": "text/x-python",
   "name": "python",
   "nbconvert_exporter": "python",
   "pygments_lexer": "ipython3",
   "version": "3.11.4"
  }
 },
 "nbformat": 4,
 "nbformat_minor": 5
}
